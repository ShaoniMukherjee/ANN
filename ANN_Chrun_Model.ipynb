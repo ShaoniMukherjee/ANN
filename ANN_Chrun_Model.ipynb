{
 "cells": [
  {
   "cell_type": "code",
   "execution_count": 1,
   "metadata": {},
   "outputs": [],
   "source": [
    "# Importing the libraries\n",
    "import numpy as np\n",
    "import matplotlib.pyplot as plt\n",
    "import pandas as pd"
   ]
  },
  {
   "cell_type": "code",
   "execution_count": 2,
   "metadata": {},
   "outputs": [
    {
     "name": "stderr",
     "output_type": "stream",
     "text": [
      "Using TensorFlow backend.\n",
      "C:\\Users\\haris\\anaconda3\\lib\\site-packages\\tensorflow\\python\\framework\\dtypes.py:516: FutureWarning: Passing (type, 1) or '1type' as a synonym of type is deprecated; in a future version of numpy, it will be understood as (type, (1,)) / '(1,)type'.\n",
      "  _np_qint8 = np.dtype([(\"qint8\", np.int8, 1)])\n",
      "C:\\Users\\haris\\anaconda3\\lib\\site-packages\\tensorflow\\python\\framework\\dtypes.py:517: FutureWarning: Passing (type, 1) or '1type' as a synonym of type is deprecated; in a future version of numpy, it will be understood as (type, (1,)) / '(1,)type'.\n",
      "  _np_quint8 = np.dtype([(\"quint8\", np.uint8, 1)])\n",
      "C:\\Users\\haris\\anaconda3\\lib\\site-packages\\tensorflow\\python\\framework\\dtypes.py:518: FutureWarning: Passing (type, 1) or '1type' as a synonym of type is deprecated; in a future version of numpy, it will be understood as (type, (1,)) / '(1,)type'.\n",
      "  _np_qint16 = np.dtype([(\"qint16\", np.int16, 1)])\n",
      "C:\\Users\\haris\\anaconda3\\lib\\site-packages\\tensorflow\\python\\framework\\dtypes.py:519: FutureWarning: Passing (type, 1) or '1type' as a synonym of type is deprecated; in a future version of numpy, it will be understood as (type, (1,)) / '(1,)type'.\n",
      "  _np_quint16 = np.dtype([(\"quint16\", np.uint16, 1)])\n",
      "C:\\Users\\haris\\anaconda3\\lib\\site-packages\\tensorflow\\python\\framework\\dtypes.py:520: FutureWarning: Passing (type, 1) or '1type' as a synonym of type is deprecated; in a future version of numpy, it will be understood as (type, (1,)) / '(1,)type'.\n",
      "  _np_qint32 = np.dtype([(\"qint32\", np.int32, 1)])\n",
      "C:\\Users\\haris\\anaconda3\\lib\\site-packages\\tensorflow\\python\\framework\\dtypes.py:525: FutureWarning: Passing (type, 1) or '1type' as a synonym of type is deprecated; in a future version of numpy, it will be understood as (type, (1,)) / '(1,)type'.\n",
      "  np_resource = np.dtype([(\"resource\", np.ubyte, 1)])\n",
      "C:\\Users\\haris\\anaconda3\\lib\\site-packages\\tensorboard\\compat\\tensorflow_stub\\dtypes.py:541: FutureWarning: Passing (type, 1) or '1type' as a synonym of type is deprecated; in a future version of numpy, it will be understood as (type, (1,)) / '(1,)type'.\n",
      "  _np_qint8 = np.dtype([(\"qint8\", np.int8, 1)])\n",
      "C:\\Users\\haris\\anaconda3\\lib\\site-packages\\tensorboard\\compat\\tensorflow_stub\\dtypes.py:542: FutureWarning: Passing (type, 1) or '1type' as a synonym of type is deprecated; in a future version of numpy, it will be understood as (type, (1,)) / '(1,)type'.\n",
      "  _np_quint8 = np.dtype([(\"quint8\", np.uint8, 1)])\n",
      "C:\\Users\\haris\\anaconda3\\lib\\site-packages\\tensorboard\\compat\\tensorflow_stub\\dtypes.py:543: FutureWarning: Passing (type, 1) or '1type' as a synonym of type is deprecated; in a future version of numpy, it will be understood as (type, (1,)) / '(1,)type'.\n",
      "  _np_qint16 = np.dtype([(\"qint16\", np.int16, 1)])\n",
      "C:\\Users\\haris\\anaconda3\\lib\\site-packages\\tensorboard\\compat\\tensorflow_stub\\dtypes.py:544: FutureWarning: Passing (type, 1) or '1type' as a synonym of type is deprecated; in a future version of numpy, it will be understood as (type, (1,)) / '(1,)type'.\n",
      "  _np_quint16 = np.dtype([(\"quint16\", np.uint16, 1)])\n",
      "C:\\Users\\haris\\anaconda3\\lib\\site-packages\\tensorboard\\compat\\tensorflow_stub\\dtypes.py:545: FutureWarning: Passing (type, 1) or '1type' as a synonym of type is deprecated; in a future version of numpy, it will be understood as (type, (1,)) / '(1,)type'.\n",
      "  _np_qint32 = np.dtype([(\"qint32\", np.int32, 1)])\n",
      "C:\\Users\\haris\\anaconda3\\lib\\site-packages\\tensorboard\\compat\\tensorflow_stub\\dtypes.py:550: FutureWarning: Passing (type, 1) or '1type' as a synonym of type is deprecated; in a future version of numpy, it will be understood as (type, (1,)) / '(1,)type'.\n",
      "  np_resource = np.dtype([(\"resource\", np.ubyte, 1)])\n"
     ]
    }
   ],
   "source": [
    "import keras"
   ]
  },
  {
   "cell_type": "code",
   "execution_count": 3,
   "metadata": {},
   "outputs": [],
   "source": [
    "from keras.models import Sequential\n",
    "from keras.layers import Dense\n",
    "from keras.layers import LeakyReLU,PReLU,ELU\n",
    "from keras.layers import Dropout"
   ]
  },
  {
   "cell_type": "code",
   "execution_count": 4,
   "metadata": {},
   "outputs": [],
   "source": [
    "dataset = pd.read_csv('Churn_Modelling.csv')"
   ]
  },
  {
   "cell_type": "code",
   "execution_count": 5,
   "metadata": {},
   "outputs": [
    {
     "data": {
      "text/html": [
       "<div>\n",
       "<style scoped>\n",
       "    .dataframe tbody tr th:only-of-type {\n",
       "        vertical-align: middle;\n",
       "    }\n",
       "\n",
       "    .dataframe tbody tr th {\n",
       "        vertical-align: top;\n",
       "    }\n",
       "\n",
       "    .dataframe thead th {\n",
       "        text-align: right;\n",
       "    }\n",
       "</style>\n",
       "<table border=\"1\" class=\"dataframe\">\n",
       "  <thead>\n",
       "    <tr style=\"text-align: right;\">\n",
       "      <th></th>\n",
       "      <th>RowNumber</th>\n",
       "      <th>CustomerId</th>\n",
       "      <th>Surname</th>\n",
       "      <th>CreditScore</th>\n",
       "      <th>Geography</th>\n",
       "      <th>Gender</th>\n",
       "      <th>Age</th>\n",
       "      <th>Tenure</th>\n",
       "      <th>Balance</th>\n",
       "      <th>NumOfProducts</th>\n",
       "      <th>HasCrCard</th>\n",
       "      <th>IsActiveMember</th>\n",
       "      <th>EstimatedSalary</th>\n",
       "      <th>Exited</th>\n",
       "    </tr>\n",
       "  </thead>\n",
       "  <tbody>\n",
       "    <tr>\n",
       "      <th>0</th>\n",
       "      <td>1</td>\n",
       "      <td>15634602</td>\n",
       "      <td>Hargrave</td>\n",
       "      <td>619</td>\n",
       "      <td>France</td>\n",
       "      <td>Female</td>\n",
       "      <td>42</td>\n",
       "      <td>2</td>\n",
       "      <td>0.00</td>\n",
       "      <td>1</td>\n",
       "      <td>1</td>\n",
       "      <td>1</td>\n",
       "      <td>101348.88</td>\n",
       "      <td>1</td>\n",
       "    </tr>\n",
       "    <tr>\n",
       "      <th>1</th>\n",
       "      <td>2</td>\n",
       "      <td>15647311</td>\n",
       "      <td>Hill</td>\n",
       "      <td>608</td>\n",
       "      <td>Spain</td>\n",
       "      <td>Female</td>\n",
       "      <td>41</td>\n",
       "      <td>1</td>\n",
       "      <td>83807.86</td>\n",
       "      <td>1</td>\n",
       "      <td>0</td>\n",
       "      <td>1</td>\n",
       "      <td>112542.58</td>\n",
       "      <td>0</td>\n",
       "    </tr>\n",
       "    <tr>\n",
       "      <th>2</th>\n",
       "      <td>3</td>\n",
       "      <td>15619304</td>\n",
       "      <td>Onio</td>\n",
       "      <td>502</td>\n",
       "      <td>France</td>\n",
       "      <td>Female</td>\n",
       "      <td>42</td>\n",
       "      <td>8</td>\n",
       "      <td>159660.80</td>\n",
       "      <td>3</td>\n",
       "      <td>1</td>\n",
       "      <td>0</td>\n",
       "      <td>113931.57</td>\n",
       "      <td>1</td>\n",
       "    </tr>\n",
       "    <tr>\n",
       "      <th>3</th>\n",
       "      <td>4</td>\n",
       "      <td>15701354</td>\n",
       "      <td>Boni</td>\n",
       "      <td>699</td>\n",
       "      <td>France</td>\n",
       "      <td>Female</td>\n",
       "      <td>39</td>\n",
       "      <td>1</td>\n",
       "      <td>0.00</td>\n",
       "      <td>2</td>\n",
       "      <td>0</td>\n",
       "      <td>0</td>\n",
       "      <td>93826.63</td>\n",
       "      <td>0</td>\n",
       "    </tr>\n",
       "    <tr>\n",
       "      <th>4</th>\n",
       "      <td>5</td>\n",
       "      <td>15737888</td>\n",
       "      <td>Mitchell</td>\n",
       "      <td>850</td>\n",
       "      <td>Spain</td>\n",
       "      <td>Female</td>\n",
       "      <td>43</td>\n",
       "      <td>2</td>\n",
       "      <td>125510.82</td>\n",
       "      <td>1</td>\n",
       "      <td>1</td>\n",
       "      <td>1</td>\n",
       "      <td>79084.10</td>\n",
       "      <td>0</td>\n",
       "    </tr>\n",
       "  </tbody>\n",
       "</table>\n",
       "</div>"
      ],
      "text/plain": [
       "   RowNumber  CustomerId   Surname  CreditScore Geography  Gender  Age  \\\n",
       "0          1    15634602  Hargrave          619    France  Female   42   \n",
       "1          2    15647311      Hill          608     Spain  Female   41   \n",
       "2          3    15619304      Onio          502    France  Female   42   \n",
       "3          4    15701354      Boni          699    France  Female   39   \n",
       "4          5    15737888  Mitchell          850     Spain  Female   43   \n",
       "\n",
       "   Tenure    Balance  NumOfProducts  HasCrCard  IsActiveMember  \\\n",
       "0       2       0.00              1          1               1   \n",
       "1       1   83807.86              1          0               1   \n",
       "2       8  159660.80              3          1               0   \n",
       "3       1       0.00              2          0               0   \n",
       "4       2  125510.82              1          1               1   \n",
       "\n",
       "   EstimatedSalary  Exited  \n",
       "0        101348.88       1  \n",
       "1        112542.58       0  \n",
       "2        113931.57       1  \n",
       "3         93826.63       0  \n",
       "4         79084.10       0  "
      ]
     },
     "execution_count": 5,
     "metadata": {},
     "output_type": "execute_result"
    }
   ],
   "source": [
    "dataset.head()"
   ]
  },
  {
   "cell_type": "code",
   "execution_count": 6,
   "metadata": {},
   "outputs": [
    {
     "data": {
      "text/plain": [
       "(10000, 14)"
      ]
     },
     "execution_count": 6,
     "metadata": {},
     "output_type": "execute_result"
    }
   ],
   "source": [
    "dataset.shape"
   ]
  },
  {
   "cell_type": "code",
   "execution_count": 8,
   "metadata": {},
   "outputs": [],
   "source": [
    "X = dataset.iloc[:, 3:13]\n",
    "y = dataset.iloc[:, 13]"
   ]
  },
  {
   "cell_type": "code",
   "execution_count": 9,
   "metadata": {},
   "outputs": [
    {
     "data": {
      "text/plain": [
       "0    1\n",
       "1    0\n",
       "2    1\n",
       "3    0\n",
       "4    0\n",
       "Name: Exited, dtype: int64"
      ]
     },
     "execution_count": 9,
     "metadata": {},
     "output_type": "execute_result"
    }
   ],
   "source": [
    "y.head()"
   ]
  },
  {
   "cell_type": "code",
   "execution_count": 10,
   "metadata": {},
   "outputs": [
    {
     "data": {
      "text/html": [
       "<div>\n",
       "<style scoped>\n",
       "    .dataframe tbody tr th:only-of-type {\n",
       "        vertical-align: middle;\n",
       "    }\n",
       "\n",
       "    .dataframe tbody tr th {\n",
       "        vertical-align: top;\n",
       "    }\n",
       "\n",
       "    .dataframe thead th {\n",
       "        text-align: right;\n",
       "    }\n",
       "</style>\n",
       "<table border=\"1\" class=\"dataframe\">\n",
       "  <thead>\n",
       "    <tr style=\"text-align: right;\">\n",
       "      <th></th>\n",
       "      <th>CreditScore</th>\n",
       "      <th>Geography</th>\n",
       "      <th>Gender</th>\n",
       "      <th>Age</th>\n",
       "      <th>Tenure</th>\n",
       "      <th>Balance</th>\n",
       "      <th>NumOfProducts</th>\n",
       "      <th>HasCrCard</th>\n",
       "      <th>IsActiveMember</th>\n",
       "      <th>EstimatedSalary</th>\n",
       "    </tr>\n",
       "  </thead>\n",
       "  <tbody>\n",
       "    <tr>\n",
       "      <th>0</th>\n",
       "      <td>619</td>\n",
       "      <td>France</td>\n",
       "      <td>Female</td>\n",
       "      <td>42</td>\n",
       "      <td>2</td>\n",
       "      <td>0.00</td>\n",
       "      <td>1</td>\n",
       "      <td>1</td>\n",
       "      <td>1</td>\n",
       "      <td>101348.88</td>\n",
       "    </tr>\n",
       "    <tr>\n",
       "      <th>1</th>\n",
       "      <td>608</td>\n",
       "      <td>Spain</td>\n",
       "      <td>Female</td>\n",
       "      <td>41</td>\n",
       "      <td>1</td>\n",
       "      <td>83807.86</td>\n",
       "      <td>1</td>\n",
       "      <td>0</td>\n",
       "      <td>1</td>\n",
       "      <td>112542.58</td>\n",
       "    </tr>\n",
       "    <tr>\n",
       "      <th>2</th>\n",
       "      <td>502</td>\n",
       "      <td>France</td>\n",
       "      <td>Female</td>\n",
       "      <td>42</td>\n",
       "      <td>8</td>\n",
       "      <td>159660.80</td>\n",
       "      <td>3</td>\n",
       "      <td>1</td>\n",
       "      <td>0</td>\n",
       "      <td>113931.57</td>\n",
       "    </tr>\n",
       "    <tr>\n",
       "      <th>3</th>\n",
       "      <td>699</td>\n",
       "      <td>France</td>\n",
       "      <td>Female</td>\n",
       "      <td>39</td>\n",
       "      <td>1</td>\n",
       "      <td>0.00</td>\n",
       "      <td>2</td>\n",
       "      <td>0</td>\n",
       "      <td>0</td>\n",
       "      <td>93826.63</td>\n",
       "    </tr>\n",
       "    <tr>\n",
       "      <th>4</th>\n",
       "      <td>850</td>\n",
       "      <td>Spain</td>\n",
       "      <td>Female</td>\n",
       "      <td>43</td>\n",
       "      <td>2</td>\n",
       "      <td>125510.82</td>\n",
       "      <td>1</td>\n",
       "      <td>1</td>\n",
       "      <td>1</td>\n",
       "      <td>79084.10</td>\n",
       "    </tr>\n",
       "  </tbody>\n",
       "</table>\n",
       "</div>"
      ],
      "text/plain": [
       "   CreditScore Geography  Gender  Age  Tenure    Balance  NumOfProducts  \\\n",
       "0          619    France  Female   42       2       0.00              1   \n",
       "1          608     Spain  Female   41       1   83807.86              1   \n",
       "2          502    France  Female   42       8  159660.80              3   \n",
       "3          699    France  Female   39       1       0.00              2   \n",
       "4          850     Spain  Female   43       2  125510.82              1   \n",
       "\n",
       "   HasCrCard  IsActiveMember  EstimatedSalary  \n",
       "0          1               1        101348.88  \n",
       "1          0               1        112542.58  \n",
       "2          1               0        113931.57  \n",
       "3          0               0         93826.63  \n",
       "4          1               1         79084.10  "
      ]
     },
     "execution_count": 10,
     "metadata": {},
     "output_type": "execute_result"
    }
   ],
   "source": [
    "X.head()"
   ]
  },
  {
   "cell_type": "code",
   "execution_count": 11,
   "metadata": {},
   "outputs": [],
   "source": [
    "#Create dummy variables\n",
    "geography=pd.get_dummies(X[\"Geography\"],drop_first=True)\n",
    "gender=pd.get_dummies(X['Gender'],drop_first=True)"
   ]
  },
  {
   "cell_type": "code",
   "execution_count": 12,
   "metadata": {},
   "outputs": [],
   "source": [
    "## Concatenate the Data Frames\n",
    "\n",
    "X=pd.concat([X,geography,gender],axis=1)\n"
   ]
  },
  {
   "cell_type": "code",
   "execution_count": 13,
   "metadata": {},
   "outputs": [],
   "source": [
    "## Drop Unnecessary columns\n",
    "X=X.drop(['Geography','Gender'],axis=1)"
   ]
  },
  {
   "cell_type": "code",
   "execution_count": 14,
   "metadata": {},
   "outputs": [
    {
     "data": {
      "text/html": [
       "<div>\n",
       "<style scoped>\n",
       "    .dataframe tbody tr th:only-of-type {\n",
       "        vertical-align: middle;\n",
       "    }\n",
       "\n",
       "    .dataframe tbody tr th {\n",
       "        vertical-align: top;\n",
       "    }\n",
       "\n",
       "    .dataframe thead th {\n",
       "        text-align: right;\n",
       "    }\n",
       "</style>\n",
       "<table border=\"1\" class=\"dataframe\">\n",
       "  <thead>\n",
       "    <tr style=\"text-align: right;\">\n",
       "      <th></th>\n",
       "      <th>CreditScore</th>\n",
       "      <th>Age</th>\n",
       "      <th>Tenure</th>\n",
       "      <th>Balance</th>\n",
       "      <th>NumOfProducts</th>\n",
       "      <th>HasCrCard</th>\n",
       "      <th>IsActiveMember</th>\n",
       "      <th>EstimatedSalary</th>\n",
       "      <th>Germany</th>\n",
       "      <th>Spain</th>\n",
       "      <th>Male</th>\n",
       "    </tr>\n",
       "  </thead>\n",
       "  <tbody>\n",
       "    <tr>\n",
       "      <th>0</th>\n",
       "      <td>619</td>\n",
       "      <td>42</td>\n",
       "      <td>2</td>\n",
       "      <td>0.00</td>\n",
       "      <td>1</td>\n",
       "      <td>1</td>\n",
       "      <td>1</td>\n",
       "      <td>101348.88</td>\n",
       "      <td>0</td>\n",
       "      <td>0</td>\n",
       "      <td>0</td>\n",
       "    </tr>\n",
       "    <tr>\n",
       "      <th>1</th>\n",
       "      <td>608</td>\n",
       "      <td>41</td>\n",
       "      <td>1</td>\n",
       "      <td>83807.86</td>\n",
       "      <td>1</td>\n",
       "      <td>0</td>\n",
       "      <td>1</td>\n",
       "      <td>112542.58</td>\n",
       "      <td>0</td>\n",
       "      <td>1</td>\n",
       "      <td>0</td>\n",
       "    </tr>\n",
       "    <tr>\n",
       "      <th>2</th>\n",
       "      <td>502</td>\n",
       "      <td>42</td>\n",
       "      <td>8</td>\n",
       "      <td>159660.80</td>\n",
       "      <td>3</td>\n",
       "      <td>1</td>\n",
       "      <td>0</td>\n",
       "      <td>113931.57</td>\n",
       "      <td>0</td>\n",
       "      <td>0</td>\n",
       "      <td>0</td>\n",
       "    </tr>\n",
       "    <tr>\n",
       "      <th>3</th>\n",
       "      <td>699</td>\n",
       "      <td>39</td>\n",
       "      <td>1</td>\n",
       "      <td>0.00</td>\n",
       "      <td>2</td>\n",
       "      <td>0</td>\n",
       "      <td>0</td>\n",
       "      <td>93826.63</td>\n",
       "      <td>0</td>\n",
       "      <td>0</td>\n",
       "      <td>0</td>\n",
       "    </tr>\n",
       "    <tr>\n",
       "      <th>4</th>\n",
       "      <td>850</td>\n",
       "      <td>43</td>\n",
       "      <td>2</td>\n",
       "      <td>125510.82</td>\n",
       "      <td>1</td>\n",
       "      <td>1</td>\n",
       "      <td>1</td>\n",
       "      <td>79084.10</td>\n",
       "      <td>0</td>\n",
       "      <td>1</td>\n",
       "      <td>0</td>\n",
       "    </tr>\n",
       "  </tbody>\n",
       "</table>\n",
       "</div>"
      ],
      "text/plain": [
       "   CreditScore  Age  Tenure    Balance  NumOfProducts  HasCrCard  \\\n",
       "0          619   42       2       0.00              1          1   \n",
       "1          608   41       1   83807.86              1          0   \n",
       "2          502   42       8  159660.80              3          1   \n",
       "3          699   39       1       0.00              2          0   \n",
       "4          850   43       2  125510.82              1          1   \n",
       "\n",
       "   IsActiveMember  EstimatedSalary  Germany  Spain  Male  \n",
       "0               1        101348.88        0      0     0  \n",
       "1               1        112542.58        0      1     0  \n",
       "2               0        113931.57        0      0     0  \n",
       "3               0         93826.63        0      0     0  \n",
       "4               1         79084.10        0      1     0  "
      ]
     },
     "execution_count": 14,
     "metadata": {},
     "output_type": "execute_result"
    }
   ],
   "source": [
    "X.head()"
   ]
  },
  {
   "cell_type": "code",
   "execution_count": 15,
   "metadata": {},
   "outputs": [],
   "source": [
    "# Splitting the dataset into the Training set and Test set\n",
    "from sklearn.model_selection import train_test_split\n",
    "X_train, X_test, y_train, y_test = train_test_split(X, y, test_size = 0.2, random_state = 0)"
   ]
  },
  {
   "cell_type": "code",
   "execution_count": 16,
   "metadata": {},
   "outputs": [],
   "source": [
    "# Feature Scaling\n",
    "from sklearn.preprocessing import StandardScaler\n",
    "sc = StandardScaler()\n",
    "X_train = sc.fit_transform(X_train)\n",
    "X_test = sc.transform(X_test)"
   ]
  },
  {
   "cell_type": "code",
   "execution_count": 19,
   "metadata": {},
   "outputs": [],
   "source": [
    "# Initialising the ANN\n",
    "classifier = Sequential()"
   ]
  },
  {
   "cell_type": "code",
   "execution_count": 22,
   "metadata": {},
   "outputs": [
    {
     "data": {
      "text/plain": [
       "<keras.engine.sequential.Sequential at 0x29a6a37ef48>"
      ]
     },
     "execution_count": 22,
     "metadata": {},
     "output_type": "execute_result"
    }
   ],
   "source": [
    "classifier"
   ]
  },
  {
   "cell_type": "code",
   "execution_count": 21,
   "metadata": {},
   "outputs": [],
   "source": [
    "# Adding the input layer and the first hidden layer\n",
    "classifier.add(Dense(units = 6, kernel_initializer = 'he_uniform',activation='relu',input_dim = 11))\n"
   ]
  },
  {
   "cell_type": "code",
   "execution_count": 23,
   "metadata": {},
   "outputs": [],
   "source": [
    "# Adding the second hidden layer\n",
    "classifier.add(Dense(activation=\"relu\", units=6, kernel_initializer=\"he_uniform\"))"
   ]
  },
  {
   "cell_type": "code",
   "execution_count": 24,
   "metadata": {},
   "outputs": [],
   "source": [
    "# Adding the output layer\n",
    "classifier.add(Dense(activation=\"sigmoid\", units=1, kernel_initializer=\"glorot_uniform\"))"
   ]
  },
  {
   "cell_type": "code",
   "execution_count": 26,
   "metadata": {},
   "outputs": [],
   "source": [
    "# Compiling the ANN\n",
    "classifier.compile(optimizer = 'Adam', loss = 'binary_crossentropy', metrics = ['accuracy'])"
   ]
  },
  {
   "cell_type": "code",
   "execution_count": 27,
   "metadata": {},
   "outputs": [
    {
     "name": "stderr",
     "output_type": "stream",
     "text": [
      "C:\\Users\\haris\\anaconda3\\lib\\site-packages\\ipykernel_launcher.py:2: UserWarning: The `nb_epoch` argument in `fit` has been renamed `epochs`.\n",
      "  \n"
     ]
    },
    {
     "name": "stdout",
     "output_type": "stream",
     "text": [
      "WARNING:tensorflow:From C:\\Users\\haris\\anaconda3\\lib\\site-packages\\keras\\backend\\tensorflow_backend.py:422: The name tf.global_variables is deprecated. Please use tf.compat.v1.global_variables instead.\n",
      "\n",
      "Train on 5359 samples, validate on 2641 samples\n",
      "Epoch 1/100\n",
      "5359/5359 [==============================] - 1s 244us/step - loss: 0.4960 - accuracy: 0.7962 - val_loss: 0.4741 - val_accuracy: 0.7944\n",
      "Epoch 2/100\n",
      "5359/5359 [==============================] - 1s 121us/step - loss: 0.4523 - accuracy: 0.7970 - val_loss: 0.4529 - val_accuracy: 0.7899\n",
      "Epoch 3/100\n",
      "5359/5359 [==============================] - 1s 118us/step - loss: 0.4369 - accuracy: 0.7947 - val_loss: 0.4442 - val_accuracy: 0.7940\n",
      "Epoch 4/100\n",
      "5359/5359 [==============================] - 1s 126us/step - loss: 0.4286 - accuracy: 0.8003 - val_loss: 0.4380 - val_accuracy: 0.7944\n",
      "Epoch 5/100\n",
      "5359/5359 [==============================] - 1s 190us/step - loss: 0.4204 - accuracy: 0.8015 - val_loss: 0.4323 - val_accuracy: 0.7993\n",
      "Epoch 6/100\n",
      "5359/5359 [==============================] - 1s 115us/step - loss: 0.4110 - accuracy: 0.8052 - val_loss: 0.4248 - val_accuracy: 0.7936\n",
      "Epoch 7/100\n",
      "5359/5359 [==============================] - 1s 124us/step - loss: 0.4017 - accuracy: 0.8106 - val_loss: 0.4145 - val_accuracy: 0.8005\n",
      "Epoch 8/100\n",
      "5359/5359 [==============================] - 1s 138us/step - loss: 0.3916 - accuracy: 0.8147 - val_loss: 0.4055 - val_accuracy: 0.8035\n",
      "Epoch 9/100\n",
      "5359/5359 [==============================] - 1s 123us/step - loss: 0.3822 - accuracy: 0.8138 - val_loss: 0.3969 - val_accuracy: 0.8239\n",
      "Epoch 10/100\n",
      "5359/5359 [==============================] - 1s 136us/step - loss: 0.3739 - accuracy: 0.8419 - val_loss: 0.3914 - val_accuracy: 0.8315\n",
      "Epoch 11/100\n",
      "5359/5359 [==============================] - 1s 130us/step - loss: 0.3675 - accuracy: 0.8475 - val_loss: 0.3878 - val_accuracy: 0.8353\n",
      "Epoch 12/100\n",
      "5359/5359 [==============================] - 1s 137us/step - loss: 0.3623 - accuracy: 0.8496 - val_loss: 0.3839 - val_accuracy: 0.8383\n",
      "Epoch 13/100\n",
      "5359/5359 [==============================] - 1s 250us/step - loss: 0.3584 - accuracy: 0.8517 - val_loss: 0.3804 - val_accuracy: 0.8421\n",
      "Epoch 14/100\n",
      "5359/5359 [==============================] - 1s 155us/step - loss: 0.3547 - accuracy: 0.8539 - val_loss: 0.3782 - val_accuracy: 0.8432\n",
      "Epoch 15/100\n",
      "5359/5359 [==============================] - 1s 113us/step - loss: 0.3516 - accuracy: 0.8556 - val_loss: 0.3758 - val_accuracy: 0.8444\n",
      "Epoch 16/100\n",
      "5359/5359 [==============================] - 1s 205us/step - loss: 0.3492 - accuracy: 0.8576 - val_loss: 0.3741 - val_accuracy: 0.8470\n",
      "Epoch 17/100\n",
      "5359/5359 [==============================] - 1s 165us/step - loss: 0.3467 - accuracy: 0.8565 - val_loss: 0.3726 - val_accuracy: 0.8497\n",
      "Epoch 18/100\n",
      "5359/5359 [==============================] - 1s 130us/step - loss: 0.3451 - accuracy: 0.8561 - val_loss: 0.3717 - val_accuracy: 0.8489\n",
      "Epoch 19/100\n",
      "5359/5359 [==============================] - 1s 199us/step - loss: 0.3439 - accuracy: 0.8572 - val_loss: 0.3707 - val_accuracy: 0.8497\n",
      "Epoch 20/100\n",
      "5359/5359 [==============================] - 1s 232us/step - loss: 0.3426 - accuracy: 0.8580 - val_loss: 0.3688 - val_accuracy: 0.8501\n",
      "Epoch 21/100\n",
      "5359/5359 [==============================] - 1s 133us/step - loss: 0.3416 - accuracy: 0.8593 - val_loss: 0.3669 - val_accuracy: 0.8489\n",
      "Epoch 22/100\n",
      "5359/5359 [==============================] - 1s 116us/step - loss: 0.3404 - accuracy: 0.8599 - val_loss: 0.3667 - val_accuracy: 0.8508\n",
      "Epoch 23/100\n",
      "5359/5359 [==============================] - 1s 124us/step - loss: 0.3392 - accuracy: 0.8595 - val_loss: 0.3663 - val_accuracy: 0.8519\n",
      "Epoch 24/100\n",
      "5359/5359 [==============================] - 1s 142us/step - loss: 0.3387 - accuracy: 0.8599 - val_loss: 0.3656 - val_accuracy: 0.8516\n",
      "Epoch 25/100\n",
      "5359/5359 [==============================] - 1s 133us/step - loss: 0.3386 - accuracy: 0.8595 - val_loss: 0.3642 - val_accuracy: 0.8561\n",
      "Epoch 26/100\n",
      "5359/5359 [==============================] - 1s 229us/step - loss: 0.3378 - accuracy: 0.8614 - val_loss: 0.3625 - val_accuracy: 0.8527\n",
      "Epoch 27/100\n",
      "5359/5359 [==============================] - 1s 158us/step - loss: 0.3373 - accuracy: 0.8604 - val_loss: 0.3624 - val_accuracy: 0.8535\n",
      "Epoch 28/100\n",
      "5359/5359 [==============================] - 1s 190us/step - loss: 0.3367 - accuracy: 0.8593 - val_loss: 0.3612 - val_accuracy: 0.8519\n",
      "Epoch 29/100\n",
      "5359/5359 [==============================] - 1s 206us/step - loss: 0.3363 - accuracy: 0.8599 - val_loss: 0.3618 - val_accuracy: 0.8535\n",
      "Epoch 30/100\n",
      "5359/5359 [==============================] - 1s 221us/step - loss: 0.3359 - accuracy: 0.8621 - val_loss: 0.3602 - val_accuracy: 0.8546\n",
      "Epoch 31/100\n",
      "5359/5359 [==============================] - 1s 198us/step - loss: 0.3349 - accuracy: 0.8608 - val_loss: 0.3608 - val_accuracy: 0.8557\n",
      "Epoch 32/100\n",
      "5359/5359 [==============================] - 1s 246us/step - loss: 0.3345 - accuracy: 0.8614 - val_loss: 0.3587 - val_accuracy: 0.8580\n",
      "Epoch 33/100\n",
      "5359/5359 [==============================] - 1s 173us/step - loss: 0.3343 - accuracy: 0.8619 - val_loss: 0.3579 - val_accuracy: 0.8554\n",
      "Epoch 34/100\n",
      "5359/5359 [==============================] - 1s 150us/step - loss: 0.3334 - accuracy: 0.8604 - val_loss: 0.3568 - val_accuracy: 0.8580\n",
      "Epoch 35/100\n",
      "5359/5359 [==============================] - 1s 139us/step - loss: 0.3330 - accuracy: 0.8600 - val_loss: 0.3565 - val_accuracy: 0.8557\n",
      "Epoch 36/100\n",
      "5359/5359 [==============================] - 1s 116us/step - loss: 0.3326 - accuracy: 0.8615 - val_loss: 0.3565 - val_accuracy: 0.8573\n",
      "Epoch 37/100\n",
      "5359/5359 [==============================] - 1s 141us/step - loss: 0.3324 - accuracy: 0.8615 - val_loss: 0.3560 - val_accuracy: 0.8603\n",
      "Epoch 38/100\n",
      "5359/5359 [==============================] - 1s 111us/step - loss: 0.3314 - accuracy: 0.8625 - val_loss: 0.3559 - val_accuracy: 0.8622\n",
      "Epoch 39/100\n",
      "5359/5359 [==============================] - 1s 185us/step - loss: 0.3318 - accuracy: 0.8625 - val_loss: 0.3560 - val_accuracy: 0.8588\n",
      "Epoch 40/100\n",
      "5359/5359 [==============================] - 1s 142us/step - loss: 0.3314 - accuracy: 0.8615 - val_loss: 0.3554 - val_accuracy: 0.8573\n",
      "Epoch 41/100\n",
      "5359/5359 [==============================] - 1s 127us/step - loss: 0.3314 - accuracy: 0.8614 - val_loss: 0.3548 - val_accuracy: 0.8576\n",
      "Epoch 42/100\n",
      "5359/5359 [==============================] - 1s 131us/step - loss: 0.3307 - accuracy: 0.8619 - val_loss: 0.3550 - val_accuracy: 0.8576\n",
      "Epoch 43/100\n",
      "5359/5359 [==============================] - 1s 112us/step - loss: 0.3306 - accuracy: 0.8602 - val_loss: 0.3568 - val_accuracy: 0.8607\n",
      "Epoch 44/100\n",
      "5359/5359 [==============================] - 1s 122us/step - loss: 0.3304 - accuracy: 0.8615 - val_loss: 0.3555 - val_accuracy: 0.8546\n",
      "Epoch 45/100\n",
      "5359/5359 [==============================] - 1s 116us/step - loss: 0.3297 - accuracy: 0.8625 - val_loss: 0.3545 - val_accuracy: 0.8591\n",
      "Epoch 46/100\n",
      "5359/5359 [==============================] - 1s 115us/step - loss: 0.3295 - accuracy: 0.8612 - val_loss: 0.3543 - val_accuracy: 0.8561\n",
      "Epoch 47/100\n",
      "5359/5359 [==============================] - 1s 161us/step - loss: 0.3295 - accuracy: 0.8614 - val_loss: 0.3549 - val_accuracy: 0.8550\n",
      "Epoch 48/100\n",
      "5359/5359 [==============================] - 1s 166us/step - loss: 0.3294 - accuracy: 0.8621 - val_loss: 0.3561 - val_accuracy: 0.8580\n",
      "Epoch 49/100\n",
      "5359/5359 [==============================] - 1s 126us/step - loss: 0.3292 - accuracy: 0.8617 - val_loss: 0.3536 - val_accuracy: 0.8580\n",
      "Epoch 50/100\n",
      "5359/5359 [==============================] - 1s 130us/step - loss: 0.3287 - accuracy: 0.8642 - val_loss: 0.3541 - val_accuracy: 0.8565\n",
      "Epoch 51/100\n",
      "5359/5359 [==============================] - 1s 136us/step - loss: 0.3285 - accuracy: 0.8647 - val_loss: 0.3535 - val_accuracy: 0.8580\n",
      "Epoch 52/100\n",
      "5359/5359 [==============================] - 1s 120us/step - loss: 0.3287 - accuracy: 0.8628 - val_loss: 0.3544 - val_accuracy: 0.8584\n",
      "Epoch 53/100\n",
      "5359/5359 [==============================] - 1s 120us/step - loss: 0.3286 - accuracy: 0.8625 - val_loss: 0.3543 - val_accuracy: 0.8538\n",
      "Epoch 54/100\n",
      "5359/5359 [==============================] - 1s 116us/step - loss: 0.3283 - accuracy: 0.8630 - val_loss: 0.3541 - val_accuracy: 0.8576\n"
     ]
    },
    {
     "name": "stdout",
     "output_type": "stream",
     "text": [
      "Epoch 55/100\n",
      "5359/5359 [==============================] - 1s 152us/step - loss: 0.3279 - accuracy: 0.8625 - val_loss: 0.3532 - val_accuracy: 0.8599\n",
      "Epoch 56/100\n",
      "5359/5359 [==============================] - 1s 138us/step - loss: 0.3280 - accuracy: 0.8640 - val_loss: 0.3533 - val_accuracy: 0.8591\n",
      "Epoch 57/100\n",
      "5359/5359 [==============================] - 1s 120us/step - loss: 0.3273 - accuracy: 0.8640 - val_loss: 0.3536 - val_accuracy: 0.8610\n",
      "Epoch 58/100\n",
      "5359/5359 [==============================] - 1s 118us/step - loss: 0.3276 - accuracy: 0.8630 - val_loss: 0.3537 - val_accuracy: 0.8610\n",
      "Epoch 59/100\n",
      "5359/5359 [==============================] - 1s 127us/step - loss: 0.3275 - accuracy: 0.8614 - val_loss: 0.3535 - val_accuracy: 0.8584\n",
      "Epoch 60/100\n",
      "5359/5359 [==============================] - 1s 137us/step - loss: 0.3267 - accuracy: 0.8634 - val_loss: 0.3543 - val_accuracy: 0.8546\n",
      "Epoch 61/100\n",
      "5359/5359 [==============================] - 1s 125us/step - loss: 0.3273 - accuracy: 0.8632 - val_loss: 0.3550 - val_accuracy: 0.8546\n",
      "Epoch 62/100\n",
      "5359/5359 [==============================] - 1s 118us/step - loss: 0.3266 - accuracy: 0.8643 - val_loss: 0.3531 - val_accuracy: 0.8603\n",
      "Epoch 63/100\n",
      "5359/5359 [==============================] - 1s 151us/step - loss: 0.3267 - accuracy: 0.8660 - val_loss: 0.3526 - val_accuracy: 0.8591\n",
      "Epoch 64/100\n",
      "5359/5359 [==============================] - 1s 175us/step - loss: 0.3270 - accuracy: 0.8651 - val_loss: 0.3531 - val_accuracy: 0.8591\n",
      "Epoch 65/100\n",
      "5359/5359 [==============================] - 1s 127us/step - loss: 0.3262 - accuracy: 0.8643 - val_loss: 0.3517 - val_accuracy: 0.8622\n",
      "Epoch 66/100\n",
      "5359/5359 [==============================] - 1s 133us/step - loss: 0.3259 - accuracy: 0.8636 - val_loss: 0.3528 - val_accuracy: 0.8618\n",
      "Epoch 67/100\n",
      "5359/5359 [==============================] - 1s 119us/step - loss: 0.3259 - accuracy: 0.8640 - val_loss: 0.3520 - val_accuracy: 0.8622\n",
      "Epoch 68/100\n",
      "5359/5359 [==============================] - 1s 129us/step - loss: 0.3260 - accuracy: 0.8642 - val_loss: 0.3523 - val_accuracy: 0.8599\n",
      "Epoch 69/100\n",
      "5359/5359 [==============================] - 1s 125us/step - loss: 0.3254 - accuracy: 0.8634 - val_loss: 0.3530 - val_accuracy: 0.8591\n",
      "Epoch 70/100\n",
      "5359/5359 [==============================] - 1s 129us/step - loss: 0.3255 - accuracy: 0.8651 - val_loss: 0.3528 - val_accuracy: 0.8576\n",
      "Epoch 71/100\n",
      "5359/5359 [==============================] - 1s 183us/step - loss: 0.3256 - accuracy: 0.8621 - val_loss: 0.3517 - val_accuracy: 0.8603\n",
      "Epoch 72/100\n",
      "5359/5359 [==============================] - 1s 153us/step - loss: 0.3253 - accuracy: 0.8640 - val_loss: 0.3527 - val_accuracy: 0.8573\n",
      "Epoch 73/100\n",
      "5359/5359 [==============================] - 1s 120us/step - loss: 0.3251 - accuracy: 0.8658 - val_loss: 0.3518 - val_accuracy: 0.8633\n",
      "Epoch 74/100\n",
      "5359/5359 [==============================] - 1s 127us/step - loss: 0.3249 - accuracy: 0.8651 - val_loss: 0.3534 - val_accuracy: 0.8614\n",
      "Epoch 75/100\n",
      "5359/5359 [==============================] - 1s 144us/step - loss: 0.3241 - accuracy: 0.8651 - val_loss: 0.3524 - val_accuracy: 0.8550\n",
      "Epoch 76/100\n",
      "5359/5359 [==============================] - 1s 121us/step - loss: 0.3247 - accuracy: 0.8655 - val_loss: 0.3519 - val_accuracy: 0.8629\n",
      "Epoch 77/100\n",
      "5359/5359 [==============================] - 1s 117us/step - loss: 0.3241 - accuracy: 0.8638 - val_loss: 0.3518 - val_accuracy: 0.8618\n",
      "Epoch 78/100\n",
      "5359/5359 [==============================] - 1s 124us/step - loss: 0.3245 - accuracy: 0.8623 - val_loss: 0.3515 - val_accuracy: 0.8610\n",
      "Epoch 79/100\n",
      "5359/5359 [==============================] - 1s 180us/step - loss: 0.3243 - accuracy: 0.8634 - val_loss: 0.3509 - val_accuracy: 0.8607\n",
      "Epoch 80/100\n",
      "5359/5359 [==============================] - 1s 115us/step - loss: 0.3228 - accuracy: 0.8638 - val_loss: 0.3508 - val_accuracy: 0.8629\n",
      "Epoch 81/100\n",
      "5359/5359 [==============================] - 1s 127us/step - loss: 0.3241 - accuracy: 0.8645 - val_loss: 0.3507 - val_accuracy: 0.8607\n",
      "Epoch 82/100\n",
      "5359/5359 [==============================] - 1s 111us/step - loss: 0.3233 - accuracy: 0.8643 - val_loss: 0.3499 - val_accuracy: 0.8633\n",
      "Epoch 83/100\n",
      "5359/5359 [==============================] - 1s 121us/step - loss: 0.3232 - accuracy: 0.8653 - val_loss: 0.3509 - val_accuracy: 0.8633\n",
      "Epoch 84/100\n",
      "5359/5359 [==============================] - 1s 121us/step - loss: 0.3235 - accuracy: 0.8630 - val_loss: 0.3509 - val_accuracy: 0.8648\n",
      "Epoch 85/100\n",
      "5359/5359 [==============================] - 1s 124us/step - loss: 0.3232 - accuracy: 0.8645 - val_loss: 0.3504 - val_accuracy: 0.8622\n",
      "Epoch 86/100\n",
      "5359/5359 [==============================] - 1s 128us/step - loss: 0.3233 - accuracy: 0.8653 - val_loss: 0.3522 - val_accuracy: 0.8599\n",
      "Epoch 87/100\n",
      "5359/5359 [==============================] - 1s 223us/step - loss: 0.3229 - accuracy: 0.8638 - val_loss: 0.3504 - val_accuracy: 0.8607\n",
      "Epoch 88/100\n",
      "5359/5359 [==============================] - 1s 132us/step - loss: 0.3232 - accuracy: 0.8642 - val_loss: 0.3506 - val_accuracy: 0.8648\n",
      "Epoch 89/100\n",
      "5359/5359 [==============================] - 1s 128us/step - loss: 0.3229 - accuracy: 0.8656 - val_loss: 0.3501 - val_accuracy: 0.8603\n",
      "Epoch 90/100\n",
      "5359/5359 [==============================] - 1s 130us/step - loss: 0.3225 - accuracy: 0.8647 - val_loss: 0.3511 - val_accuracy: 0.8599\n",
      "Epoch 91/100\n",
      "5359/5359 [==============================] - 1s 128us/step - loss: 0.3233 - accuracy: 0.8640 - val_loss: 0.3504 - val_accuracy: 0.8637\n",
      "Epoch 92/100\n",
      "5359/5359 [==============================] - 1s 127us/step - loss: 0.3228 - accuracy: 0.8642 - val_loss: 0.3498 - val_accuracy: 0.8610\n",
      "Epoch 93/100\n",
      "5359/5359 [==============================] - 1s 128us/step - loss: 0.3220 - accuracy: 0.8632 - val_loss: 0.3500 - val_accuracy: 0.8610\n",
      "Epoch 94/100\n",
      "5359/5359 [==============================] - 1s 172us/step - loss: 0.3228 - accuracy: 0.8649 - val_loss: 0.3494 - val_accuracy: 0.8610\n",
      "Epoch 95/100\n",
      "5359/5359 [==============================] - 1s 182us/step - loss: 0.3228 - accuracy: 0.8668 - val_loss: 0.3512 - val_accuracy: 0.8599\n",
      "Epoch 96/100\n",
      "5359/5359 [==============================] - 1s 119us/step - loss: 0.3224 - accuracy: 0.8636 - val_loss: 0.3498 - val_accuracy: 0.8610\n",
      "Epoch 97/100\n",
      "5359/5359 [==============================] - 1s 119us/step - loss: 0.3223 - accuracy: 0.8645 - val_loss: 0.3504 - val_accuracy: 0.8591\n",
      "Epoch 98/100\n",
      "5359/5359 [==============================] - 1s 143us/step - loss: 0.3221 - accuracy: 0.8630 - val_loss: 0.3500 - val_accuracy: 0.8580\n",
      "Epoch 99/100\n",
      "5359/5359 [==============================] - 1s 145us/step - loss: 0.3222 - accuracy: 0.8636 - val_loss: 0.3493 - val_accuracy: 0.8607\n",
      "Epoch 100/100\n",
      "5359/5359 [==============================] - 1s 134us/step - loss: 0.3219 - accuracy: 0.8634 - val_loss: 0.3510 - val_accuracy: 0.8580\n"
     ]
    }
   ],
   "source": [
    "# Fitting the ANN to the Training set\n",
    "model_history=classifier.fit(X_train, y_train,validation_split=0.33, batch_size = 10, nb_epoch = 100)"
   ]
  },
  {
   "cell_type": "code",
   "execution_count": 28,
   "metadata": {},
   "outputs": [],
   "source": [
    "# Predicting the Test set results\n",
    "y_pred = classifier.predict(X_test)\n",
    "y_pred = (y_pred > 0.5)"
   ]
  },
  {
   "cell_type": "code",
   "execution_count": 29,
   "metadata": {},
   "outputs": [
    {
     "data": {
      "text/plain": [
       "{False: 1669, True: 331}"
      ]
     },
     "execution_count": 29,
     "metadata": {},
     "output_type": "execute_result"
    }
   ],
   "source": [
    "unique, counts = np.unique(y_pred, return_counts=True)\n",
    "\n",
    "dict(zip(unique, counts))"
   ]
  },
  {
   "cell_type": "code",
   "execution_count": 30,
   "metadata": {},
   "outputs": [
    {
     "data": {
      "text/plain": [
       "{0: 1595, 1: 405}"
      ]
     },
     "execution_count": 30,
     "metadata": {},
     "output_type": "execute_result"
    }
   ],
   "source": [
    "unique, counts = np.unique(y_test, return_counts=True)\n",
    "\n",
    "dict(zip(unique, counts))"
   ]
  },
  {
   "cell_type": "code",
   "execution_count": 31,
   "metadata": {},
   "outputs": [],
   "source": [
    "# Making the Confusion Matrix\n",
    "from sklearn.metrics import confusion_matrix\n",
    "cm = confusion_matrix(y_test, y_pred)"
   ]
  },
  {
   "cell_type": "code",
   "execution_count": 32,
   "metadata": {},
   "outputs": [
    {
     "data": {
      "text/plain": [
       "array([[1487,  108],\n",
       "       [ 182,  223]], dtype=int64)"
      ]
     },
     "execution_count": 32,
     "metadata": {},
     "output_type": "execute_result"
    }
   ],
   "source": [
    "cm"
   ]
  },
  {
   "cell_type": "code",
   "execution_count": 33,
   "metadata": {},
   "outputs": [],
   "source": [
    "# Calculate the Accuracy\n",
    "from sklearn.metrics import accuracy_score\n",
    "score=accuracy_score(y_pred,y_test)"
   ]
  },
  {
   "cell_type": "code",
   "execution_count": 34,
   "metadata": {},
   "outputs": [
    {
     "data": {
      "text/plain": [
       "0.855"
      ]
     },
     "execution_count": 34,
     "metadata": {},
     "output_type": "execute_result"
    }
   ],
   "source": [
    "score"
   ]
  },
  {
   "cell_type": "code",
   "execution_count": 35,
   "metadata": {},
   "outputs": [
    {
     "data": {
      "text/plain": [
       "array([[False],\n",
       "       [False],\n",
       "       [False],\n",
       "       ...,\n",
       "       [False],\n",
       "       [False],\n",
       "       [False]])"
      ]
     },
     "execution_count": 35,
     "metadata": {},
     "output_type": "execute_result"
    }
   ],
   "source": [
    "y_pred"
   ]
  },
  {
   "cell_type": "code",
   "execution_count": 36,
   "metadata": {},
   "outputs": [],
   "source": [
    "from keras.layers import Activation, Embedding, Flatten, LeakyReLU, BatchNormalization, Dropout\n",
    "from keras.activations import relu, sigmoid\n",
    "from keras.layers import LeakyReLU"
   ]
  },
  {
   "cell_type": "code",
   "execution_count": 37,
   "metadata": {},
   "outputs": [],
   "source": [
    "from keras.wrappers.scikit_learn import KerasClassifier\n",
    "from sklearn.model_selection import GridSearchCV"
   ]
  },
  {
   "cell_type": "code",
   "execution_count": 38,
   "metadata": {},
   "outputs": [
    {
     "data": {
      "text/html": [
       "<div>\n",
       "<style scoped>\n",
       "    .dataframe tbody tr th:only-of-type {\n",
       "        vertical-align: middle;\n",
       "    }\n",
       "\n",
       "    .dataframe tbody tr th {\n",
       "        vertical-align: top;\n",
       "    }\n",
       "\n",
       "    .dataframe thead th {\n",
       "        text-align: right;\n",
       "    }\n",
       "</style>\n",
       "<table border=\"1\" class=\"dataframe\">\n",
       "  <thead>\n",
       "    <tr style=\"text-align: right;\">\n",
       "      <th></th>\n",
       "      <th>CreditScore</th>\n",
       "      <th>Age</th>\n",
       "      <th>Tenure</th>\n",
       "      <th>Balance</th>\n",
       "      <th>NumOfProducts</th>\n",
       "      <th>HasCrCard</th>\n",
       "      <th>IsActiveMember</th>\n",
       "      <th>EstimatedSalary</th>\n",
       "      <th>Germany</th>\n",
       "      <th>Spain</th>\n",
       "      <th>Male</th>\n",
       "    </tr>\n",
       "  </thead>\n",
       "  <tbody>\n",
       "    <tr>\n",
       "      <th>0</th>\n",
       "      <td>619</td>\n",
       "      <td>42</td>\n",
       "      <td>2</td>\n",
       "      <td>0.00</td>\n",
       "      <td>1</td>\n",
       "      <td>1</td>\n",
       "      <td>1</td>\n",
       "      <td>101348.88</td>\n",
       "      <td>0</td>\n",
       "      <td>0</td>\n",
       "      <td>0</td>\n",
       "    </tr>\n",
       "    <tr>\n",
       "      <th>1</th>\n",
       "      <td>608</td>\n",
       "      <td>41</td>\n",
       "      <td>1</td>\n",
       "      <td>83807.86</td>\n",
       "      <td>1</td>\n",
       "      <td>0</td>\n",
       "      <td>1</td>\n",
       "      <td>112542.58</td>\n",
       "      <td>0</td>\n",
       "      <td>1</td>\n",
       "      <td>0</td>\n",
       "    </tr>\n",
       "    <tr>\n",
       "      <th>2</th>\n",
       "      <td>502</td>\n",
       "      <td>42</td>\n",
       "      <td>8</td>\n",
       "      <td>159660.80</td>\n",
       "      <td>3</td>\n",
       "      <td>1</td>\n",
       "      <td>0</td>\n",
       "      <td>113931.57</td>\n",
       "      <td>0</td>\n",
       "      <td>0</td>\n",
       "      <td>0</td>\n",
       "    </tr>\n",
       "    <tr>\n",
       "      <th>3</th>\n",
       "      <td>699</td>\n",
       "      <td>39</td>\n",
       "      <td>1</td>\n",
       "      <td>0.00</td>\n",
       "      <td>2</td>\n",
       "      <td>0</td>\n",
       "      <td>0</td>\n",
       "      <td>93826.63</td>\n",
       "      <td>0</td>\n",
       "      <td>0</td>\n",
       "      <td>0</td>\n",
       "    </tr>\n",
       "    <tr>\n",
       "      <th>4</th>\n",
       "      <td>850</td>\n",
       "      <td>43</td>\n",
       "      <td>2</td>\n",
       "      <td>125510.82</td>\n",
       "      <td>1</td>\n",
       "      <td>1</td>\n",
       "      <td>1</td>\n",
       "      <td>79084.10</td>\n",
       "      <td>0</td>\n",
       "      <td>1</td>\n",
       "      <td>0</td>\n",
       "    </tr>\n",
       "  </tbody>\n",
       "</table>\n",
       "</div>"
      ],
      "text/plain": [
       "   CreditScore  Age  Tenure    Balance  NumOfProducts  HasCrCard  \\\n",
       "0          619   42       2       0.00              1          1   \n",
       "1          608   41       1   83807.86              1          0   \n",
       "2          502   42       8  159660.80              3          1   \n",
       "3          699   39       1       0.00              2          0   \n",
       "4          850   43       2  125510.82              1          1   \n",
       "\n",
       "   IsActiveMember  EstimatedSalary  Germany  Spain  Male  \n",
       "0               1        101348.88        0      0     0  \n",
       "1               1        112542.58        0      1     0  \n",
       "2               0        113931.57        0      0     0  \n",
       "3               0         93826.63        0      0     0  \n",
       "4               1         79084.10        0      1     0  "
      ]
     },
     "execution_count": 38,
     "metadata": {},
     "output_type": "execute_result"
    }
   ],
   "source": [
    "X.head()"
   ]
  },
  {
   "cell_type": "code",
   "execution_count": 39,
   "metadata": {},
   "outputs": [
    {
     "data": {
      "text/plain": [
       "0    1\n",
       "1    0\n",
       "2    1\n",
       "3    0\n",
       "4    0\n",
       "Name: Exited, dtype: int64"
      ]
     },
     "execution_count": 39,
     "metadata": {},
     "output_type": "execute_result"
    }
   ],
   "source": [
    "y.head()"
   ]
  },
  {
   "cell_type": "code",
   "execution_count": 40,
   "metadata": {},
   "outputs": [],
   "source": [
    "# Splitting the dataset again into the Training set and Test set\n",
    "from sklearn.model_selection import train_test_split\n",
    "X_train, X_test, y_train, y_test = train_test_split(X, y, test_size = 0.2, random_state = 0)\n",
    "\n",
    "# Feature Scaling again\n",
    "from sklearn.preprocessing import StandardScaler\n",
    "sc = StandardScaler()\n",
    "X_train = sc.fit_transform(X_train)\n",
    "X_test = sc.transform(X_test)"
   ]
  },
  {
   "cell_type": "code",
   "execution_count": 41,
   "metadata": {},
   "outputs": [
    {
     "data": {
      "text/plain": [
       "7389    0\n",
       "9275    0\n",
       "2995    0\n",
       "5316    0\n",
       "356     0\n",
       "       ..\n",
       "9225    0\n",
       "4859    0\n",
       "3264    0\n",
       "9845    0\n",
       "2732    1\n",
       "Name: Exited, Length: 8000, dtype: int64"
      ]
     },
     "execution_count": 41,
     "metadata": {},
     "output_type": "execute_result"
    }
   ],
   "source": [
    "y_train"
   ]
  },
  {
   "cell_type": "code",
   "execution_count": 42,
   "metadata": {},
   "outputs": [
    {
     "data": {
      "text/plain": [
       "11"
      ]
     },
     "execution_count": 42,
     "metadata": {},
     "output_type": "execute_result"
    }
   ],
   "source": [
    "X_train.shape[1]"
   ]
  },
  {
   "cell_type": "code",
   "execution_count": 43,
   "metadata": {},
   "outputs": [],
   "source": [
    "def create_model(layers, activation):\n",
    "    model = Sequential()\n",
    "    for i, nodes in enumerate(layers):\n",
    "        if i==0:\n",
    "            model.add(Dense(nodes,input_dim=X_train.shape[1]))\n",
    "            model.add(Activation(activation))\n",
    "        else:\n",
    "            model.add(Dense(nodes))\n",
    "            model.add(Activation(activation))\n",
    "    model.add(Dense(1)) # Note: no activation beyond this point\n",
    "    \n",
    "    model.compile(optimizer='adam', loss='binary_crossentropy',metrics=['accuracy'])\n",
    "    return model\n",
    "    \n",
    "model = KerasClassifier(build_fn=create_model, verbose=0)\n",
    "    "
   ]
  },
  {
   "cell_type": "code",
   "execution_count": 44,
   "metadata": {},
   "outputs": [
    {
     "data": {
      "text/plain": [
       "<keras.wrappers.scikit_learn.KerasClassifier at 0x29a6b88ef08>"
      ]
     },
     "execution_count": 44,
     "metadata": {},
     "output_type": "execute_result"
    }
   ],
   "source": [
    "model"
   ]
  },
  {
   "cell_type": "code",
   "execution_count": 45,
   "metadata": {},
   "outputs": [],
   "source": [
    "layers=[(150,), (160,100), (140,100,500)]\n",
    "activations = ['sigmoid', 'relu']\n",
    "param_grid = dict(layers=layers, activation=activations, batch_size = [128, 256], epochs=[30])\n",
    "grid = GridSearchCV(estimator=model, param_grid=param_grid,cv=5)"
   ]
  },
  {
   "cell_type": "code",
   "execution_count": 46,
   "metadata": {},
   "outputs": [],
   "source": [
    "grid_result = grid.fit(X_train, y_train)"
   ]
  },
  {
   "cell_type": "code",
   "execution_count": 47,
   "metadata": {},
   "outputs": [
    {
     "data": {
      "text/plain": [
       "[0.8486250042915344,\n",
       " {'activation': 'relu', 'batch_size': 256, 'epochs': 30, 'layers': (160, 100)}]"
      ]
     },
     "execution_count": 47,
     "metadata": {},
     "output_type": "execute_result"
    }
   ],
   "source": [
    "[grid_result.best_score_,grid_result.best_params_]\n"
   ]
  },
  {
   "cell_type": "code",
   "execution_count": 48,
   "metadata": {},
   "outputs": [],
   "source": [
    "pred_y = grid.predict(X_test)\n"
   ]
  },
  {
   "cell_type": "code",
   "execution_count": 49,
   "metadata": {},
   "outputs": [
    {
     "data": {
      "text/plain": [
       "array([[1],\n",
       "       [0],\n",
       "       [0],\n",
       "       ...,\n",
       "       [0],\n",
       "       [0],\n",
       "       [0]], dtype=int64)"
      ]
     },
     "execution_count": 49,
     "metadata": {},
     "output_type": "execute_result"
    }
   ],
   "source": [
    "pred_y"
   ]
  },
  {
   "cell_type": "code",
   "execution_count": 50,
   "metadata": {},
   "outputs": [],
   "source": [
    "y_pred = (pred_y > 0.5)\n"
   ]
  },
  {
   "cell_type": "code",
   "execution_count": 55,
   "metadata": {},
   "outputs": [
    {
     "data": {
      "text/plain": [
       "array([[ True],\n",
       "       [False],\n",
       "       [False],\n",
       "       ...,\n",
       "       [False],\n",
       "       [False],\n",
       "       [False]])"
      ]
     },
     "execution_count": 55,
     "metadata": {},
     "output_type": "execute_result"
    }
   ],
   "source": [
    "y_pred"
   ]
  },
  {
   "cell_type": "code",
   "execution_count": 51,
   "metadata": {},
   "outputs": [],
   "source": [
    "from sklearn.metrics import confusion_matrix\n",
    "cm = confusion_matrix(y_test, y_pred)"
   ]
  },
  {
   "cell_type": "code",
   "execution_count": 52,
   "metadata": {},
   "outputs": [
    {
     "data": {
      "text/plain": [
       "array([[1469,  126],\n",
       "       [ 185,  220]], dtype=int64)"
      ]
     },
     "execution_count": 52,
     "metadata": {},
     "output_type": "execute_result"
    }
   ],
   "source": [
    "cm"
   ]
  },
  {
   "cell_type": "code",
   "execution_count": 53,
   "metadata": {},
   "outputs": [],
   "source": [
    "from sklearn.metrics import accuracy_score\n",
    "score=accuracy_score(y_test,y_pred)"
   ]
  },
  {
   "cell_type": "code",
   "execution_count": 54,
   "metadata": {},
   "outputs": [
    {
     "data": {
      "text/plain": [
       "0.8445"
      ]
     },
     "execution_count": 54,
     "metadata": {},
     "output_type": "execute_result"
    }
   ],
   "source": [
    "score"
   ]
  },
  {
   "cell_type": "code",
   "execution_count": null,
   "metadata": {},
   "outputs": [],
   "source": []
  },
  {
   "cell_type": "code",
   "execution_count": null,
   "metadata": {},
   "outputs": [],
   "source": []
  },
  {
   "cell_type": "code",
   "execution_count": null,
   "metadata": {},
   "outputs": [],
   "source": []
  },
  {
   "cell_type": "code",
   "execution_count": null,
   "metadata": {},
   "outputs": [],
   "source": []
  },
  {
   "cell_type": "code",
   "execution_count": null,
   "metadata": {},
   "outputs": [],
   "source": []
  },
  {
   "cell_type": "code",
   "execution_count": null,
   "metadata": {},
   "outputs": [],
   "source": []
  },
  {
   "cell_type": "code",
   "execution_count": null,
   "metadata": {},
   "outputs": [],
   "source": []
  }
 ],
 "metadata": {
  "kernelspec": {
   "display_name": "Python 3",
   "language": "python",
   "name": "python3"
  },
  "language_info": {
   "codemirror_mode": {
    "name": "ipython",
    "version": 3
   },
   "file_extension": ".py",
   "mimetype": "text/x-python",
   "name": "python",
   "nbconvert_exporter": "python",
   "pygments_lexer": "ipython3",
   "version": "3.7.6"
  }
 },
 "nbformat": 4,
 "nbformat_minor": 4
}
