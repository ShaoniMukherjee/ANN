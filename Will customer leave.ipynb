{
 "cells": [
  {
   "cell_type": "code",
   "execution_count": 2,
   "metadata": {},
   "outputs": [],
   "source": [
    "# Importing the libraries\n",
    "import numpy as np\n",
    "import matplotlib.pyplot as plt\n",
    "import pandas as pd"
   ]
  },
  {
   "cell_type": "code",
   "execution_count": 11,
   "metadata": {},
   "outputs": [],
   "source": [
    "df = pd.read_csv(\"BankCustomers.csv\")"
   ]
  },
  {
   "cell_type": "code",
   "execution_count": 12,
   "metadata": {},
   "outputs": [
    {
     "data": {
      "text/html": [
       "<div>\n",
       "<style scoped>\n",
       "    .dataframe tbody tr th:only-of-type {\n",
       "        vertical-align: middle;\n",
       "    }\n",
       "\n",
       "    .dataframe tbody tr th {\n",
       "        vertical-align: top;\n",
       "    }\n",
       "\n",
       "    .dataframe thead th {\n",
       "        text-align: right;\n",
       "    }\n",
       "</style>\n",
       "<table border=\"1\" class=\"dataframe\">\n",
       "  <thead>\n",
       "    <tr style=\"text-align: right;\">\n",
       "      <th></th>\n",
       "      <th>RowNumber</th>\n",
       "      <th>CustomerId</th>\n",
       "      <th>Surname</th>\n",
       "      <th>CreditScore</th>\n",
       "      <th>Geography</th>\n",
       "      <th>Gender</th>\n",
       "      <th>Age</th>\n",
       "      <th>Tenure</th>\n",
       "      <th>Balance</th>\n",
       "      <th>NumOfProducts</th>\n",
       "      <th>HasCrCard</th>\n",
       "      <th>IsActiveMember</th>\n",
       "      <th>EstimatedSalary</th>\n",
       "      <th>Exited</th>\n",
       "    </tr>\n",
       "  </thead>\n",
       "  <tbody>\n",
       "    <tr>\n",
       "      <th>0</th>\n",
       "      <td>1</td>\n",
       "      <td>15634602</td>\n",
       "      <td>Hargrave</td>\n",
       "      <td>619</td>\n",
       "      <td>France</td>\n",
       "      <td>Female</td>\n",
       "      <td>42</td>\n",
       "      <td>2</td>\n",
       "      <td>0.00</td>\n",
       "      <td>1</td>\n",
       "      <td>1</td>\n",
       "      <td>1</td>\n",
       "      <td>101348.88</td>\n",
       "      <td>1</td>\n",
       "    </tr>\n",
       "    <tr>\n",
       "      <th>1</th>\n",
       "      <td>2</td>\n",
       "      <td>15647311</td>\n",
       "      <td>Hill</td>\n",
       "      <td>608</td>\n",
       "      <td>Spain</td>\n",
       "      <td>Female</td>\n",
       "      <td>41</td>\n",
       "      <td>1</td>\n",
       "      <td>83807.86</td>\n",
       "      <td>1</td>\n",
       "      <td>0</td>\n",
       "      <td>1</td>\n",
       "      <td>112542.58</td>\n",
       "      <td>0</td>\n",
       "    </tr>\n",
       "    <tr>\n",
       "      <th>2</th>\n",
       "      <td>3</td>\n",
       "      <td>15619304</td>\n",
       "      <td>Onio</td>\n",
       "      <td>502</td>\n",
       "      <td>France</td>\n",
       "      <td>Female</td>\n",
       "      <td>42</td>\n",
       "      <td>8</td>\n",
       "      <td>159660.80</td>\n",
       "      <td>3</td>\n",
       "      <td>1</td>\n",
       "      <td>0</td>\n",
       "      <td>113931.57</td>\n",
       "      <td>1</td>\n",
       "    </tr>\n",
       "    <tr>\n",
       "      <th>3</th>\n",
       "      <td>4</td>\n",
       "      <td>15701354</td>\n",
       "      <td>Boni</td>\n",
       "      <td>699</td>\n",
       "      <td>France</td>\n",
       "      <td>Female</td>\n",
       "      <td>39</td>\n",
       "      <td>1</td>\n",
       "      <td>0.00</td>\n",
       "      <td>2</td>\n",
       "      <td>0</td>\n",
       "      <td>0</td>\n",
       "      <td>93826.63</td>\n",
       "      <td>0</td>\n",
       "    </tr>\n",
       "    <tr>\n",
       "      <th>4</th>\n",
       "      <td>5</td>\n",
       "      <td>15737888</td>\n",
       "      <td>Mitchell</td>\n",
       "      <td>850</td>\n",
       "      <td>Spain</td>\n",
       "      <td>Female</td>\n",
       "      <td>43</td>\n",
       "      <td>2</td>\n",
       "      <td>125510.82</td>\n",
       "      <td>1</td>\n",
       "      <td>1</td>\n",
       "      <td>1</td>\n",
       "      <td>79084.10</td>\n",
       "      <td>0</td>\n",
       "    </tr>\n",
       "  </tbody>\n",
       "</table>\n",
       "</div>"
      ],
      "text/plain": [
       "   RowNumber  CustomerId   Surname  CreditScore Geography  Gender  Age  \\\n",
       "0          1    15634602  Hargrave          619    France  Female   42   \n",
       "1          2    15647311      Hill          608     Spain  Female   41   \n",
       "2          3    15619304      Onio          502    France  Female   42   \n",
       "3          4    15701354      Boni          699    France  Female   39   \n",
       "4          5    15737888  Mitchell          850     Spain  Female   43   \n",
       "\n",
       "   Tenure    Balance  NumOfProducts  HasCrCard  IsActiveMember  \\\n",
       "0       2       0.00              1          1               1   \n",
       "1       1   83807.86              1          0               1   \n",
       "2       8  159660.80              3          1               0   \n",
       "3       1       0.00              2          0               0   \n",
       "4       2  125510.82              1          1               1   \n",
       "\n",
       "   EstimatedSalary  Exited  \n",
       "0        101348.88       1  \n",
       "1        112542.58       0  \n",
       "2        113931.57       1  \n",
       "3         93826.63       0  \n",
       "4         79084.10       0  "
      ]
     },
     "execution_count": 12,
     "metadata": {},
     "output_type": "execute_result"
    }
   ],
   "source": [
    "df.head()"
   ]
  },
  {
   "cell_type": "code",
   "execution_count": 13,
   "metadata": {},
   "outputs": [
    {
     "data": {
      "text/plain": [
       "(10000, 14)"
      ]
     },
     "execution_count": 13,
     "metadata": {},
     "output_type": "execute_result"
    }
   ],
   "source": [
    "df.shape"
   ]
  },
  {
   "cell_type": "code",
   "execution_count": 14,
   "metadata": {},
   "outputs": [],
   "source": [
    "#drop the unwanted column\n",
    "\n",
    "df = df.drop(['RowNumber','CustomerId','Surname'],axis = 1)"
   ]
  },
  {
   "cell_type": "code",
   "execution_count": 16,
   "metadata": {},
   "outputs": [
    {
     "data": {
      "text/plain": [
       "CreditScore          int64\n",
       "Geography           object\n",
       "Gender              object\n",
       "Age                  int64\n",
       "Tenure               int64\n",
       "Balance            float64\n",
       "NumOfProducts        int64\n",
       "HasCrCard            int64\n",
       "IsActiveMember       int64\n",
       "EstimatedSalary    float64\n",
       "Exited               int64\n",
       "dtype: object"
      ]
     },
     "execution_count": 16,
     "metadata": {},
     "output_type": "execute_result"
    }
   ],
   "source": [
    "df.dtypes"
   ]
  },
  {
   "cell_type": "code",
   "execution_count": 17,
   "metadata": {},
   "outputs": [],
   "source": [
    "states = pd.get_dummies(df['Geography'],drop_first=True)\n",
    "gender = pd.get_dummies(df['Gender'],drop_first=True)"
   ]
  },
  {
   "cell_type": "code",
   "execution_count": 18,
   "metadata": {},
   "outputs": [],
   "source": [
    "df = pd.concat([df,states,gender],axis = 1)"
   ]
  },
  {
   "cell_type": "code",
   "execution_count": 19,
   "metadata": {},
   "outputs": [
    {
     "data": {
      "text/html": [
       "<div>\n",
       "<style scoped>\n",
       "    .dataframe tbody tr th:only-of-type {\n",
       "        vertical-align: middle;\n",
       "    }\n",
       "\n",
       "    .dataframe tbody tr th {\n",
       "        vertical-align: top;\n",
       "    }\n",
       "\n",
       "    .dataframe thead th {\n",
       "        text-align: right;\n",
       "    }\n",
       "</style>\n",
       "<table border=\"1\" class=\"dataframe\">\n",
       "  <thead>\n",
       "    <tr style=\"text-align: right;\">\n",
       "      <th></th>\n",
       "      <th>CreditScore</th>\n",
       "      <th>Geography</th>\n",
       "      <th>Gender</th>\n",
       "      <th>Age</th>\n",
       "      <th>Tenure</th>\n",
       "      <th>Balance</th>\n",
       "      <th>NumOfProducts</th>\n",
       "      <th>HasCrCard</th>\n",
       "      <th>IsActiveMember</th>\n",
       "      <th>EstimatedSalary</th>\n",
       "      <th>Exited</th>\n",
       "      <th>Germany</th>\n",
       "      <th>Spain</th>\n",
       "      <th>Male</th>\n",
       "    </tr>\n",
       "  </thead>\n",
       "  <tbody>\n",
       "    <tr>\n",
       "      <th>0</th>\n",
       "      <td>619</td>\n",
       "      <td>France</td>\n",
       "      <td>Female</td>\n",
       "      <td>42</td>\n",
       "      <td>2</td>\n",
       "      <td>0.00</td>\n",
       "      <td>1</td>\n",
       "      <td>1</td>\n",
       "      <td>1</td>\n",
       "      <td>101348.88</td>\n",
       "      <td>1</td>\n",
       "      <td>0</td>\n",
       "      <td>0</td>\n",
       "      <td>0</td>\n",
       "    </tr>\n",
       "    <tr>\n",
       "      <th>1</th>\n",
       "      <td>608</td>\n",
       "      <td>Spain</td>\n",
       "      <td>Female</td>\n",
       "      <td>41</td>\n",
       "      <td>1</td>\n",
       "      <td>83807.86</td>\n",
       "      <td>1</td>\n",
       "      <td>0</td>\n",
       "      <td>1</td>\n",
       "      <td>112542.58</td>\n",
       "      <td>0</td>\n",
       "      <td>0</td>\n",
       "      <td>1</td>\n",
       "      <td>0</td>\n",
       "    </tr>\n",
       "    <tr>\n",
       "      <th>2</th>\n",
       "      <td>502</td>\n",
       "      <td>France</td>\n",
       "      <td>Female</td>\n",
       "      <td>42</td>\n",
       "      <td>8</td>\n",
       "      <td>159660.80</td>\n",
       "      <td>3</td>\n",
       "      <td>1</td>\n",
       "      <td>0</td>\n",
       "      <td>113931.57</td>\n",
       "      <td>1</td>\n",
       "      <td>0</td>\n",
       "      <td>0</td>\n",
       "      <td>0</td>\n",
       "    </tr>\n",
       "    <tr>\n",
       "      <th>3</th>\n",
       "      <td>699</td>\n",
       "      <td>France</td>\n",
       "      <td>Female</td>\n",
       "      <td>39</td>\n",
       "      <td>1</td>\n",
       "      <td>0.00</td>\n",
       "      <td>2</td>\n",
       "      <td>0</td>\n",
       "      <td>0</td>\n",
       "      <td>93826.63</td>\n",
       "      <td>0</td>\n",
       "      <td>0</td>\n",
       "      <td>0</td>\n",
       "      <td>0</td>\n",
       "    </tr>\n",
       "    <tr>\n",
       "      <th>4</th>\n",
       "      <td>850</td>\n",
       "      <td>Spain</td>\n",
       "      <td>Female</td>\n",
       "      <td>43</td>\n",
       "      <td>2</td>\n",
       "      <td>125510.82</td>\n",
       "      <td>1</td>\n",
       "      <td>1</td>\n",
       "      <td>1</td>\n",
       "      <td>79084.10</td>\n",
       "      <td>0</td>\n",
       "      <td>0</td>\n",
       "      <td>1</td>\n",
       "      <td>0</td>\n",
       "    </tr>\n",
       "  </tbody>\n",
       "</table>\n",
       "</div>"
      ],
      "text/plain": [
       "   CreditScore Geography  Gender  Age  Tenure    Balance  NumOfProducts  \\\n",
       "0          619    France  Female   42       2       0.00              1   \n",
       "1          608     Spain  Female   41       1   83807.86              1   \n",
       "2          502    France  Female   42       8  159660.80              3   \n",
       "3          699    France  Female   39       1       0.00              2   \n",
       "4          850     Spain  Female   43       2  125510.82              1   \n",
       "\n",
       "   HasCrCard  IsActiveMember  EstimatedSalary  Exited  Germany  Spain  Male  \n",
       "0          1               1        101348.88       1        0      0     0  \n",
       "1          0               1        112542.58       0        0      1     0  \n",
       "2          1               0        113931.57       1        0      0     0  \n",
       "3          0               0         93826.63       0        0      0     0  \n",
       "4          1               1         79084.10       0        0      1     0  "
      ]
     },
     "execution_count": 19,
     "metadata": {},
     "output_type": "execute_result"
    }
   ],
   "source": [
    "df.head()"
   ]
  },
  {
   "cell_type": "code",
   "execution_count": 20,
   "metadata": {},
   "outputs": [],
   "source": [
    "df = df.drop(['Geography','Gender'], axis = 1)"
   ]
  },
  {
   "cell_type": "code",
   "execution_count": 21,
   "metadata": {},
   "outputs": [
    {
     "data": {
      "text/html": [
       "<div>\n",
       "<style scoped>\n",
       "    .dataframe tbody tr th:only-of-type {\n",
       "        vertical-align: middle;\n",
       "    }\n",
       "\n",
       "    .dataframe tbody tr th {\n",
       "        vertical-align: top;\n",
       "    }\n",
       "\n",
       "    .dataframe thead th {\n",
       "        text-align: right;\n",
       "    }\n",
       "</style>\n",
       "<table border=\"1\" class=\"dataframe\">\n",
       "  <thead>\n",
       "    <tr style=\"text-align: right;\">\n",
       "      <th></th>\n",
       "      <th>CreditScore</th>\n",
       "      <th>Age</th>\n",
       "      <th>Tenure</th>\n",
       "      <th>Balance</th>\n",
       "      <th>NumOfProducts</th>\n",
       "      <th>HasCrCard</th>\n",
       "      <th>IsActiveMember</th>\n",
       "      <th>EstimatedSalary</th>\n",
       "      <th>Exited</th>\n",
       "      <th>Germany</th>\n",
       "      <th>Spain</th>\n",
       "      <th>Male</th>\n",
       "    </tr>\n",
       "  </thead>\n",
       "  <tbody>\n",
       "    <tr>\n",
       "      <th>0</th>\n",
       "      <td>619</td>\n",
       "      <td>42</td>\n",
       "      <td>2</td>\n",
       "      <td>0.00</td>\n",
       "      <td>1</td>\n",
       "      <td>1</td>\n",
       "      <td>1</td>\n",
       "      <td>101348.88</td>\n",
       "      <td>1</td>\n",
       "      <td>0</td>\n",
       "      <td>0</td>\n",
       "      <td>0</td>\n",
       "    </tr>\n",
       "    <tr>\n",
       "      <th>1</th>\n",
       "      <td>608</td>\n",
       "      <td>41</td>\n",
       "      <td>1</td>\n",
       "      <td>83807.86</td>\n",
       "      <td>1</td>\n",
       "      <td>0</td>\n",
       "      <td>1</td>\n",
       "      <td>112542.58</td>\n",
       "      <td>0</td>\n",
       "      <td>0</td>\n",
       "      <td>1</td>\n",
       "      <td>0</td>\n",
       "    </tr>\n",
       "    <tr>\n",
       "      <th>2</th>\n",
       "      <td>502</td>\n",
       "      <td>42</td>\n",
       "      <td>8</td>\n",
       "      <td>159660.80</td>\n",
       "      <td>3</td>\n",
       "      <td>1</td>\n",
       "      <td>0</td>\n",
       "      <td>113931.57</td>\n",
       "      <td>1</td>\n",
       "      <td>0</td>\n",
       "      <td>0</td>\n",
       "      <td>0</td>\n",
       "    </tr>\n",
       "    <tr>\n",
       "      <th>3</th>\n",
       "      <td>699</td>\n",
       "      <td>39</td>\n",
       "      <td>1</td>\n",
       "      <td>0.00</td>\n",
       "      <td>2</td>\n",
       "      <td>0</td>\n",
       "      <td>0</td>\n",
       "      <td>93826.63</td>\n",
       "      <td>0</td>\n",
       "      <td>0</td>\n",
       "      <td>0</td>\n",
       "      <td>0</td>\n",
       "    </tr>\n",
       "    <tr>\n",
       "      <th>4</th>\n",
       "      <td>850</td>\n",
       "      <td>43</td>\n",
       "      <td>2</td>\n",
       "      <td>125510.82</td>\n",
       "      <td>1</td>\n",
       "      <td>1</td>\n",
       "      <td>1</td>\n",
       "      <td>79084.10</td>\n",
       "      <td>0</td>\n",
       "      <td>0</td>\n",
       "      <td>1</td>\n",
       "      <td>0</td>\n",
       "    </tr>\n",
       "  </tbody>\n",
       "</table>\n",
       "</div>"
      ],
      "text/plain": [
       "   CreditScore  Age  Tenure    Balance  NumOfProducts  HasCrCard  \\\n",
       "0          619   42       2       0.00              1          1   \n",
       "1          608   41       1   83807.86              1          0   \n",
       "2          502   42       8  159660.80              3          1   \n",
       "3          699   39       1       0.00              2          0   \n",
       "4          850   43       2  125510.82              1          1   \n",
       "\n",
       "   IsActiveMember  EstimatedSalary  Exited  Germany  Spain  Male  \n",
       "0               1        101348.88       1        0      0     0  \n",
       "1               1        112542.58       0        0      1     0  \n",
       "2               0        113931.57       1        0      0     0  \n",
       "3               0         93826.63       0        0      0     0  \n",
       "4               1         79084.10       0        0      1     0  "
      ]
     },
     "execution_count": 21,
     "metadata": {},
     "output_type": "execute_result"
    }
   ],
   "source": [
    "df.head()"
   ]
  },
  {
   "cell_type": "code",
   "execution_count": 28,
   "metadata": {},
   "outputs": [],
   "source": [
    "# Putting feature variable to X\n",
    "X = df.drop(['Exited'], axis=1)\n",
    "y = df['Exited']"
   ]
  },
  {
   "cell_type": "code",
   "execution_count": 29,
   "metadata": {},
   "outputs": [],
   "source": [
    "# Splitting the dataset into the Training set and Test set\n",
    "from sklearn.model_selection import train_test_split\n",
    "\n",
    "X_train, X_test, y_train, y_test = train_test_split(X,y, test_size=0.2,random_state = 0)"
   ]
  },
  {
   "cell_type": "markdown",
   "metadata": {},
   "source": [
    "Machine learning algorithms like linear regression, logistic regression, neural network, etc. \n",
    "that use gradient descent as an optimization technique require data to be scaled. "
   ]
  },
  {
   "cell_type": "markdown",
   "metadata": {},
   "source": [
    "Since different features have different scales, there is a chance that higher weightage is given to features with higher magnitude. This will impact the performance of the machine learning algorithm and obviously, \n",
    "we do not want our algorithm to be biassed towards one feature."
   ]
  },
  {
   "cell_type": "code",
   "execution_count": 30,
   "metadata": {},
   "outputs": [
    {
     "data": {
      "text/html": [
       "<div>\n",
       "<style scoped>\n",
       "    .dataframe tbody tr th:only-of-type {\n",
       "        vertical-align: middle;\n",
       "    }\n",
       "\n",
       "    .dataframe tbody tr th {\n",
       "        vertical-align: top;\n",
       "    }\n",
       "\n",
       "    .dataframe thead th {\n",
       "        text-align: right;\n",
       "    }\n",
       "</style>\n",
       "<table border=\"1\" class=\"dataframe\">\n",
       "  <thead>\n",
       "    <tr style=\"text-align: right;\">\n",
       "      <th></th>\n",
       "      <th>CreditScore</th>\n",
       "      <th>Age</th>\n",
       "      <th>Tenure</th>\n",
       "      <th>Balance</th>\n",
       "      <th>NumOfProducts</th>\n",
       "      <th>HasCrCard</th>\n",
       "      <th>IsActiveMember</th>\n",
       "      <th>EstimatedSalary</th>\n",
       "      <th>Germany</th>\n",
       "      <th>Spain</th>\n",
       "      <th>Male</th>\n",
       "    </tr>\n",
       "  </thead>\n",
       "  <tbody>\n",
       "    <tr>\n",
       "      <th>7389</th>\n",
       "      <td>667</td>\n",
       "      <td>34</td>\n",
       "      <td>5</td>\n",
       "      <td>0.00</td>\n",
       "      <td>2</td>\n",
       "      <td>1</td>\n",
       "      <td>0</td>\n",
       "      <td>163830.64</td>\n",
       "      <td>0</td>\n",
       "      <td>1</td>\n",
       "      <td>0</td>\n",
       "    </tr>\n",
       "    <tr>\n",
       "      <th>9275</th>\n",
       "      <td>427</td>\n",
       "      <td>42</td>\n",
       "      <td>1</td>\n",
       "      <td>75681.52</td>\n",
       "      <td>1</td>\n",
       "      <td>1</td>\n",
       "      <td>1</td>\n",
       "      <td>57098.00</td>\n",
       "      <td>1</td>\n",
       "      <td>0</td>\n",
       "      <td>1</td>\n",
       "    </tr>\n",
       "    <tr>\n",
       "      <th>2995</th>\n",
       "      <td>535</td>\n",
       "      <td>29</td>\n",
       "      <td>2</td>\n",
       "      <td>112367.34</td>\n",
       "      <td>1</td>\n",
       "      <td>1</td>\n",
       "      <td>0</td>\n",
       "      <td>185630.76</td>\n",
       "      <td>0</td>\n",
       "      <td>0</td>\n",
       "      <td>0</td>\n",
       "    </tr>\n",
       "    <tr>\n",
       "      <th>5316</th>\n",
       "      <td>654</td>\n",
       "      <td>40</td>\n",
       "      <td>5</td>\n",
       "      <td>105683.63</td>\n",
       "      <td>1</td>\n",
       "      <td>1</td>\n",
       "      <td>0</td>\n",
       "      <td>173617.09</td>\n",
       "      <td>0</td>\n",
       "      <td>1</td>\n",
       "      <td>1</td>\n",
       "    </tr>\n",
       "    <tr>\n",
       "      <th>356</th>\n",
       "      <td>850</td>\n",
       "      <td>57</td>\n",
       "      <td>8</td>\n",
       "      <td>126776.30</td>\n",
       "      <td>2</td>\n",
       "      <td>1</td>\n",
       "      <td>1</td>\n",
       "      <td>132298.49</td>\n",
       "      <td>0</td>\n",
       "      <td>1</td>\n",
       "      <td>0</td>\n",
       "    </tr>\n",
       "  </tbody>\n",
       "</table>\n",
       "</div>"
      ],
      "text/plain": [
       "      CreditScore  Age  Tenure    Balance  NumOfProducts  HasCrCard  \\\n",
       "7389          667   34       5       0.00              2          1   \n",
       "9275          427   42       1   75681.52              1          1   \n",
       "2995          535   29       2  112367.34              1          1   \n",
       "5316          654   40       5  105683.63              1          1   \n",
       "356           850   57       8  126776.30              2          1   \n",
       "\n",
       "      IsActiveMember  EstimatedSalary  Germany  Spain  Male  \n",
       "7389               0        163830.64        0      1     0  \n",
       "9275               1         57098.00        1      0     1  \n",
       "2995               0        185630.76        0      0     0  \n",
       "5316               0        173617.09        0      1     1  \n",
       "356                1        132298.49        0      1     0  "
      ]
     },
     "execution_count": 30,
     "metadata": {},
     "output_type": "execute_result"
    }
   ],
   "source": [
    "X_train.head()"
   ]
  },
  {
   "cell_type": "code",
   "execution_count": 31,
   "metadata": {},
   "outputs": [],
   "source": [
    "# Feature Scaling\n",
    "from sklearn.preprocessing import StandardScaler\n",
    "sc = StandardScaler()\n",
    "X_train = sc.fit_transform(X_train)\n",
    "X_test = sc.transform(X_test)"
   ]
  },
  {
   "cell_type": "code",
   "execution_count": 32,
   "metadata": {},
   "outputs": [
    {
     "data": {
      "text/plain": [
       "array([[ 0.16958176, -0.46460796,  0.00666099, ..., -0.5698444 ,\n",
       "         1.74309049, -1.09168714],\n",
       "       [-2.30455945,  0.30102557, -1.37744033, ...,  1.75486502,\n",
       "        -0.57369368,  0.91601335],\n",
       "       [-1.19119591, -0.94312892, -1.031415  , ..., -0.5698444 ,\n",
       "        -0.57369368, -1.09168714],\n",
       "       ...,\n",
       "       [ 0.9015152 , -0.36890377,  0.00666099, ..., -0.5698444 ,\n",
       "        -0.57369368,  0.91601335],\n",
       "       [-0.62420521, -0.08179119,  1.39076231, ..., -0.5698444 ,\n",
       "         1.74309049, -1.09168714],\n",
       "       [-0.28401079,  0.87525072, -1.37744033, ...,  1.75486502,\n",
       "        -0.57369368, -1.09168714]])"
      ]
     },
     "execution_count": 32,
     "metadata": {},
     "output_type": "execute_result"
    }
   ],
   "source": [
    "X_train"
   ]
  },
  {
   "cell_type": "code",
   "execution_count": 33,
   "metadata": {},
   "outputs": [],
   "source": [
    "#Standardisation has been performed in thsi case"
   ]
  },
  {
   "cell_type": "code",
   "execution_count": 34,
   "metadata": {},
   "outputs": [],
   "source": [
    "# Importing matplotlib and seaborn\n",
    "import matplotlib.pyplot as plt\n",
    "import seaborn as sns\n",
    "%matplotlib inline"
   ]
  },
  {
   "cell_type": "code",
   "execution_count": 35,
   "metadata": {},
   "outputs": [
    {
     "data": {
      "image/png": "[encoded data removed]",
      "text/plain": [
       "<Figure size 1440x720 with 2 Axes>"
      ]
     },
     "metadata": {
      "needs_background": "light"
     },
     "output_type": "display_data"
    }
   ],
   "source": [
    "#let us see the correlation\n",
    "\n",
    "plt.figure(figsize=(20,10))\n",
    "sns.heatmap(df.corr(),annot = True)\n",
    "plt.show()"
   ]
  },
  {
   "cell_type": "code",
   "execution_count": 36,
   "metadata": {},
   "outputs": [
    {
     "data": {
      "text/html": [
       "<table class=\"simpletable\">\n",
       "<caption>Generalized Linear Model Regression Results</caption>\n",
       "<tr>\n",
       "  <th>Dep. Variable:</th>        <td>Exited</td>      <th>  No. Observations:  </th>  <td>  8000</td> \n",
       "</tr>\n",
       "<tr>\n",
       "  <th>Model:</th>                  <td>GLM</td>       <th>  Df Residuals:      </th>  <td>  7988</td> \n",
       "</tr>\n",
       "<tr>\n",
       "  <th>Model Family:</th>        <td>Binomial</td>     <th>  Df Model:          </th>  <td>    11</td> \n",
       "</tr>\n",
       "<tr>\n",
       "  <th>Link Function:</th>         <td>logit</td>      <th>  Scale:             </th> <td>  1.0000</td>\n",
       "</tr>\n",
       "<tr>\n",
       "  <th>Method:</th>                <td>IRLS</td>       <th>  Log-Likelihood:    </th> <td> -3432.0</td>\n",
       "</tr>\n",
       "<tr>\n",
       "  <th>Date:</th>            <td>Sat, 26 Dec 2020</td> <th>  Deviance:          </th> <td>  6864.1</td>\n",
       "</tr>\n",
       "<tr>\n",
       "  <th>Time:</th>                <td>19:25:32</td>     <th>  Pearson chi2:      </th> <td>7.93e+03</td>\n",
       "</tr>\n",
       "<tr>\n",
       "  <th>No. Iterations:</th>          <td>5</td>        <th>                     </th>     <td> </td>   \n",
       "</tr>\n",
       "<tr>\n",
       "  <th>Covariance Type:</th>     <td>nonrobust</td>    <th>                     </th>     <td> </td>   \n",
       "</tr>\n",
       "</table>\n",
       "<table class=\"simpletable\">\n",
       "<tr>\n",
       "    <td></td>       <th>coef</th>     <th>std err</th>      <th>z</th>      <th>P>|z|</th>  <th>[0.025</th>    <th>0.975]</th>  \n",
       "</tr>\n",
       "<tr>\n",
       "  <th>const</th> <td>   -1.6472</td> <td>    0.034</td> <td>  -47.855</td> <td> 0.000</td> <td>   -1.715</td> <td>   -1.580</td>\n",
       "</tr>\n",
       "<tr>\n",
       "  <th>x1</th>    <td>   -0.0724</td> <td>    0.030</td> <td>   -2.390</td> <td> 0.017</td> <td>   -0.132</td> <td>   -0.013</td>\n",
       "</tr>\n",
       "<tr>\n",
       "  <th>x2</th>    <td>    0.7526</td> <td>    0.030</td> <td>   25.037</td> <td> 0.000</td> <td>    0.694</td> <td>    0.811</td>\n",
       "</tr>\n",
       "<tr>\n",
       "  <th>x3</th>    <td>   -0.0814</td> <td>    0.030</td> <td>   -2.694</td> <td> 0.007</td> <td>   -0.141</td> <td>   -0.022</td>\n",
       "</tr>\n",
       "<tr>\n",
       "  <th>x4</th>    <td>    0.1537</td> <td>    0.036</td> <td>    4.283</td> <td> 0.000</td> <td>    0.083</td> <td>    0.224</td>\n",
       "</tr>\n",
       "<tr>\n",
       "  <th>x5</th>    <td>   -0.0848</td> <td>    0.031</td> <td>   -2.747</td> <td> 0.006</td> <td>   -0.145</td> <td>   -0.024</td>\n",
       "</tr>\n",
       "<tr>\n",
       "  <th>x6</th>    <td>   -0.0237</td> <td>    0.030</td> <td>   -0.786</td> <td> 0.432</td> <td>   -0.083</td> <td>    0.035</td>\n",
       "</tr>\n",
       "<tr>\n",
       "  <th>x7</th>    <td>   -0.5189</td> <td>    0.032</td> <td>  -16.205</td> <td> 0.000</td> <td>   -0.582</td> <td>   -0.456</td>\n",
       "</tr>\n",
       "<tr>\n",
       "  <th>x8</th>    <td>    0.0292</td> <td>    0.030</td> <td>    0.960</td> <td> 0.337</td> <td>   -0.030</td> <td>    0.089</td>\n",
       "</tr>\n",
       "<tr>\n",
       "  <th>x9</th>    <td>    0.3563</td> <td>    0.033</td> <td>   10.900</td> <td> 0.000</td> <td>    0.292</td> <td>    0.420</td>\n",
       "</tr>\n",
       "<tr>\n",
       "  <th>x10</th>   <td>    0.0484</td> <td>    0.034</td> <td>    1.435</td> <td> 0.151</td> <td>   -0.018</td> <td>    0.115</td>\n",
       "</tr>\n",
       "<tr>\n",
       "  <th>x11</th>   <td>   -0.2695</td> <td>    0.030</td> <td>   -8.888</td> <td> 0.000</td> <td>   -0.329</td> <td>   -0.210</td>\n",
       "</tr>\n",
       "</table>"
      ],
      "text/plain": [
       "<class 'statsmodels.iolib.summary.Summary'>\n",
       "\"\"\"\n",
       "                 Generalized Linear Model Regression Results                  \n",
       "==============================================================================\n",
       "Dep. Variable:                 Exited   No. Observations:                 8000\n",
       "Model:                            GLM   Df Residuals:                     7988\n",
       "Model Family:                Binomial   Df Model:                           11\n",
       "Link Function:                  logit   Scale:                          1.0000\n",
       "Method:                          IRLS   Log-Likelihood:                -3432.0\n",
       "Date:                Sat, 26 Dec 2020   Deviance:                       6864.1\n",
       "Time:                        19:25:32   Pearson chi2:                 7.93e+03\n",
       "No. Iterations:                     5                                         \n",
       "Covariance Type:            nonrobust                                         \n",
       "==============================================================================\n",
       "                 coef    std err          z      P>|z|      [0.025      0.975]\n",
       "------------------------------------------------------------------------------\n",
       "const         -1.6472      0.034    -47.855      0.000      -1.715      -1.580\n",
       "x1            -0.0724      0.030     -2.390      0.017      -0.132      -0.013\n",
       "x2             0.7526      0.030     25.037      0.000       0.694       0.811\n",
       "x3            -0.0814      0.030     -2.694      0.007      -0.141      -0.022\n",
       "x4             0.1537      0.036      4.283      0.000       0.083       0.224\n",
       "x5            -0.0848      0.031     -2.747      0.006      -0.145      -0.024\n",
       "x6            -0.0237      0.030     -0.786      0.432      -0.083       0.035\n",
       "x7            -0.5189      0.032    -16.205      0.000      -0.582      -0.456\n",
       "x8             0.0292      0.030      0.960      0.337      -0.030       0.089\n",
       "x9             0.3563      0.033     10.900      0.000       0.292       0.420\n",
       "x10            0.0484      0.034      1.435      0.151      -0.018       0.115\n",
       "x11           -0.2695      0.030     -8.888      0.000      -0.329      -0.210\n",
       "==============================================================================\n",
       "\"\"\""
      ]
     },
     "execution_count": 36,
     "metadata": {},
     "output_type": "execute_result"
    }
   ],
   "source": [
    "#Running the first logistic reg model\n",
    "import statsmodels.api as sm\n",
    "# Logistic regression model\n",
    "logm1 = sm.GLM(y_train,(sm.add_constant(X_train)), family = sm.families.Binomial())\n",
    "logm1.fit().summary()"
   ]
  },
  {
   "cell_type": "code",
   "execution_count": 59,
   "metadata": {},
   "outputs": [],
   "source": [
    "col = X_train.columns"
   ]
  },
  {
   "cell_type": "code",
   "execution_count": 60,
   "metadata": {},
   "outputs": [
    {
     "data": {
      "text/html": [
       "<table class=\"simpletable\">\n",
       "<caption>Generalized Linear Model Regression Results</caption>\n",
       "<tr>\n",
       "  <th>Dep. Variable:</th>        <td>Exited</td>      <th>  No. Observations:  </th>  <td>  7000</td> \n",
       "</tr>\n",
       "<tr>\n",
       "  <th>Model:</th>                  <td>GLM</td>       <th>  Df Residuals:      </th>  <td>  6988</td> \n",
       "</tr>\n",
       "<tr>\n",
       "  <th>Model Family:</th>        <td>Binomial</td>     <th>  Df Model:          </th>  <td>    11</td> \n",
       "</tr>\n",
       "<tr>\n",
       "  <th>Link Function:</th>         <td>logit</td>      <th>  Scale:             </th> <td>  1.0000</td>\n",
       "</tr>\n",
       "<tr>\n",
       "  <th>Method:</th>                <td>IRLS</td>       <th>  Log-Likelihood:    </th> <td> -2995.9</td>\n",
       "</tr>\n",
       "<tr>\n",
       "  <th>Date:</th>            <td>Sat, 26 Dec 2020</td> <th>  Deviance:          </th> <td>  5991.8</td>\n",
       "</tr>\n",
       "<tr>\n",
       "  <th>Time:</th>                <td>19:53:19</td>     <th>  Pearson chi2:      </th> <td>6.94e+03</td>\n",
       "</tr>\n",
       "<tr>\n",
       "  <th>No. Iterations:</th>          <td>5</td>        <th>                     </th>     <td> </td>   \n",
       "</tr>\n",
       "<tr>\n",
       "  <th>Covariance Type:</th>     <td>nonrobust</td>    <th>                     </th>     <td> </td>   \n",
       "</tr>\n",
       "</table>\n",
       "<table class=\"simpletable\">\n",
       "<tr>\n",
       "         <td></td>            <th>coef</th>     <th>std err</th>      <th>z</th>      <th>P>|z|</th>  <th>[0.025</th>    <th>0.975]</th>  \n",
       "</tr>\n",
       "<tr>\n",
       "  <th>const</th>           <td>   -3.0221</td> <td>    0.292</td> <td>  -10.338</td> <td> 0.000</td> <td>   -3.595</td> <td>   -2.449</td>\n",
       "</tr>\n",
       "<tr>\n",
       "  <th>CreditScore</th>     <td>   -0.0009</td> <td>    0.000</td> <td>   -2.837</td> <td> 0.005</td> <td>   -0.002</td> <td>   -0.000</td>\n",
       "</tr>\n",
       "<tr>\n",
       "  <th>Age</th>             <td>    0.0712</td> <td>    0.003</td> <td>   23.118</td> <td> 0.000</td> <td>    0.065</td> <td>    0.077</td>\n",
       "</tr>\n",
       "<tr>\n",
       "  <th>Tenure</th>          <td>   -0.0289</td> <td>    0.011</td> <td>   -2.581</td> <td> 0.010</td> <td>   -0.051</td> <td>   -0.007</td>\n",
       "</tr>\n",
       "<tr>\n",
       "  <th>Balance</th>         <td> 2.541e-06</td> <td> 6.14e-07</td> <td>    4.136</td> <td> 0.000</td> <td> 1.34e-06</td> <td> 3.74e-06</td>\n",
       "</tr>\n",
       "<tr>\n",
       "  <th>NumOfProducts</th>   <td>   -0.1882</td> <td>    0.058</td> <td>   -3.263</td> <td> 0.001</td> <td>   -0.301</td> <td>   -0.075</td>\n",
       "</tr>\n",
       "<tr>\n",
       "  <th>HasCrCard</th>       <td>   -0.0323</td> <td>    0.071</td> <td>   -0.454</td> <td> 0.650</td> <td>   -0.172</td> <td>    0.107</td>\n",
       "</tr>\n",
       "<tr>\n",
       "  <th>IsActiveMember</th>  <td>   -0.9982</td> <td>    0.068</td> <td>  -14.580</td> <td> 0.000</td> <td>   -1.132</td> <td>   -0.864</td>\n",
       "</tr>\n",
       "<tr>\n",
       "  <th>EstimatedSalary</th> <td>  6.33e-07</td> <td> 5.66e-07</td> <td>    1.119</td> <td> 0.263</td> <td>-4.76e-07</td> <td> 1.74e-06</td>\n",
       "</tr>\n",
       "<tr>\n",
       "  <th>Germany</th>         <td>    0.8189</td> <td>    0.081</td> <td>   10.066</td> <td> 0.000</td> <td>    0.659</td> <td>    0.978</td>\n",
       "</tr>\n",
       "<tr>\n",
       "  <th>Spain</th>           <td>    0.0977</td> <td>    0.084</td> <td>    1.162</td> <td> 0.245</td> <td>   -0.067</td> <td>    0.262</td>\n",
       "</tr>\n",
       "<tr>\n",
       "  <th>Male</th>            <td>   -0.5306</td> <td>    0.065</td> <td>   -8.137</td> <td> 0.000</td> <td>   -0.658</td> <td>   -0.403</td>\n",
       "</tr>\n",
       "</table>"
      ],
      "text/plain": [
       "<class 'statsmodels.iolib.summary.Summary'>\n",
       "\"\"\"\n",
       "                 Generalized Linear Model Regression Results                  \n",
       "==============================================================================\n",
       "Dep. Variable:                 Exited   No. Observations:                 7000\n",
       "Model:                            GLM   Df Residuals:                     6988\n",
       "Model Family:                Binomial   Df Model:                           11\n",
       "Link Function:                  logit   Scale:                          1.0000\n",
       "Method:                          IRLS   Log-Likelihood:                -2995.9\n",
       "Date:                Sat, 26 Dec 2020   Deviance:                       5991.8\n",
       "Time:                        19:53:19   Pearson chi2:                 6.94e+03\n",
       "No. Iterations:                     5                                         \n",
       "Covariance Type:            nonrobust                                         \n",
       "===================================================================================\n",
       "                      coef    std err          z      P>|z|      [0.025      0.975]\n",
       "-----------------------------------------------------------------------------------\n",
       "const              -3.0221      0.292    -10.338      0.000      -3.595      -2.449\n",
       "CreditScore        -0.0009      0.000     -2.837      0.005      -0.002      -0.000\n",
       "Age                 0.0712      0.003     23.118      0.000       0.065       0.077\n",
       "Tenure             -0.0289      0.011     -2.581      0.010      -0.051      -0.007\n",
       "Balance          2.541e-06   6.14e-07      4.136      0.000    1.34e-06    3.74e-06\n",
       "NumOfProducts      -0.1882      0.058     -3.263      0.001      -0.301      -0.075\n",
       "HasCrCard          -0.0323      0.071     -0.454      0.650      -0.172       0.107\n",
       "IsActiveMember     -0.9982      0.068    -14.580      0.000      -1.132      -0.864\n",
       "EstimatedSalary   6.33e-07   5.66e-07      1.119      0.263   -4.76e-07    1.74e-06\n",
       "Germany             0.8189      0.081     10.066      0.000       0.659       0.978\n",
       "Spain               0.0977      0.084      1.162      0.245      -0.067       0.262\n",
       "Male               -0.5306      0.065     -8.137      0.000      -0.658      -0.403\n",
       "===================================================================================\n",
       "\"\"\""
      ]
     },
     "execution_count": 60,
     "metadata": {},
     "output_type": "execute_result"
    }
   ],
   "source": [
    "X_train_sm = sm.add_constant(X_train[col])\n",
    "logm2 = sm.GLM(y_train,X_train_sm, family = sm.families.Binomial())\n",
    "res = logm2.fit()\n",
    "res.summary()"
   ]
  },
  {
   "cell_type": "code",
   "execution_count": 61,
   "metadata": {},
   "outputs": [
    {
     "data": {
      "text/plain": [
       "<statsmodels.genmod.generalized_linear_model.GLM at 0x1f8872b87c8>"
      ]
     },
     "execution_count": 61,
     "metadata": {},
     "output_type": "execute_result"
    }
   ],
   "source": [
    "logm2"
   ]
  },
  {
   "cell_type": "code",
   "execution_count": 62,
   "metadata": {},
   "outputs": [
    {
     "data": {
      "text/plain": [
       "7681    0.053696\n",
       "9031    0.131480\n",
       "3691    0.714068\n",
       "202     0.164721\n",
       "5625    0.448231\n",
       "298     0.344010\n",
       "5135    0.071515\n",
       "6899    0.601187\n",
       "7258    0.776028\n",
       "9516    0.098001\n",
       "dtype: float64"
      ]
     },
     "execution_count": 62,
     "metadata": {},
     "output_type": "execute_result"
    }
   ],
   "source": [
    "# Getting the predicted values on the train set\n",
    "y_train_pred = res.predict(X_train_sm)\n",
    "y_train_pred[:10]"
   ]
  },
  {
   "cell_type": "markdown",
   "metadata": {},
   "source": [
    "when using stats model api we will get the probabiloty values of 0's and 1's \n",
    "however using logistic regression from sklearn will give us the values"
   ]
  },
  {
   "cell_type": "code",
   "execution_count": 47,
   "metadata": {},
   "outputs": [
    {
     "data": {
      "text/plain": [
       "LogisticRegression()"
      ]
     },
     "execution_count": 47,
     "metadata": {},
     "output_type": "execute_result"
    }
   ],
   "source": [
    "from sklearn.linear_model import LogisticRegression\n",
    "from sklearn import metrics\n",
    "X_train, X_test, y_train, y_test = train_test_split(X, y, test_size=0.3, random_state=0)\n",
    "logreg = LogisticRegression()\n",
    "logreg.fit(X_train, y_train)"
   ]
  },
  {
   "cell_type": "code",
   "execution_count": 48,
   "metadata": {},
   "outputs": [
    {
     "name": "stdout",
     "output_type": "stream",
     "text": [
      "Accuracy of logistic regression classifier on test set: 0.78\n"
     ]
    }
   ],
   "source": [
    "y_pred = logreg.predict(X_test)\n",
    "print('Accuracy of logistic regression classifier on test set: {:.2f}'.format(logreg.score(X_test, y_test)))"
   ]
  },
  {
   "cell_type": "code",
   "execution_count": 49,
   "metadata": {},
   "outputs": [
    {
     "name": "stdout",
     "output_type": "stream",
     "text": [
      "[[2316   63]\n",
      " [ 585   36]]\n"
     ]
    }
   ],
   "source": [
    "from sklearn.metrics import confusion_matrix\n",
    "confusion_matrix = confusion_matrix(y_test, y_pred)\n",
    "print(confusion_matrix)"
   ]
  },
  {
   "cell_type": "code",
   "execution_count": 52,
   "metadata": {},
   "outputs": [
    {
     "data": {
      "text/plain": [
       "array([0, 0, 0, ..., 0, 0, 0], dtype=int64)"
      ]
     },
     "execution_count": 52,
     "metadata": {},
     "output_type": "execute_result"
    }
   ],
   "source": [
    "y_pred"
   ]
  },
  {
   "cell_type": "code",
   "execution_count": 53,
   "metadata": {},
   "outputs": [],
   "source": [
    "#The result is telling us that we have 2316+36 correct predictions and 585+63 incorrect predictions."
   ]
  },
  {
   "cell_type": "code",
   "execution_count": 63,
   "metadata": {},
   "outputs": [
    {
     "name": "stdout",
     "output_type": "stream",
     "text": [
      "              precision    recall  f1-score   support\n",
      "\n",
      "           0       0.80      0.97      0.88      2379\n",
      "           1       0.36      0.06      0.10       621\n",
      "\n",
      "    accuracy                           0.78      3000\n",
      "   macro avg       0.58      0.52      0.49      3000\n",
      "weighted avg       0.71      0.78      0.72      3000\n",
      "\n"
     ]
    }
   ],
   "source": [
    "from sklearn.metrics import classification_report\n",
    "print(classification_report(y_test, y_pred))"
   ]
  },
  {
   "cell_type": "code",
   "execution_count": 64,
   "metadata": {},
   "outputs": [
    {
     "data": {
      "image/png": "[encoded data removed]",
      "text/plain": [
       "<Figure size 432x288 with 1 Axes>"
      ]
     },
     "metadata": {
      "needs_background": "light"
     },
     "output_type": "display_data"
    }
   ],
   "source": [
    "from sklearn.metrics import roc_auc_score\n",
    "from sklearn.metrics import roc_curve\n",
    "logit_roc_auc = roc_auc_score(y_test, logreg.predict(X_test))\n",
    "fpr, tpr, thresholds = roc_curve(y_test, logreg.predict_proba(X_test)[:,1])\n",
    "plt.figure()\n",
    "plt.plot(fpr, tpr, label='Logistic Regression (area = %0.2f)' % logit_roc_auc)\n",
    "plt.plot([0, 1], [0, 1],'r--')\n",
    "plt.xlim([0.0, 1.0])\n",
    "plt.ylim([0.0, 1.05])\n",
    "plt.xlabel('False Positive Rate')\n",
    "plt.ylabel('True Positive Rate')\n",
    "plt.title('Receiver operating characteristic')\n",
    "plt.legend(loc=\"lower right\")\n",
    "plt.savefig('Log_ROC')\n",
    "plt.show()"
   ]
  },
  {
   "cell_type": "code",
   "execution_count": 65,
   "metadata": {},
   "outputs": [
    {
     "data": {
      "text/html": [
       "<div>\n",
       "<style scoped>\n",
       "    .dataframe tbody tr th:only-of-type {\n",
       "        vertical-align: middle;\n",
       "    }\n",
       "\n",
       "    .dataframe tbody tr th {\n",
       "        vertical-align: top;\n",
       "    }\n",
       "\n",
       "    .dataframe thead th {\n",
       "        text-align: right;\n",
       "    }\n",
       "</style>\n",
       "<table border=\"1\" class=\"dataframe\">\n",
       "  <thead>\n",
       "    <tr style=\"text-align: right;\">\n",
       "      <th></th>\n",
       "      <th>CreditScore</th>\n",
       "      <th>Age</th>\n",
       "      <th>Tenure</th>\n",
       "      <th>Balance</th>\n",
       "      <th>NumOfProducts</th>\n",
       "      <th>HasCrCard</th>\n",
       "      <th>IsActiveMember</th>\n",
       "      <th>EstimatedSalary</th>\n",
       "      <th>Germany</th>\n",
       "      <th>Spain</th>\n",
       "      <th>Male</th>\n",
       "    </tr>\n",
       "  </thead>\n",
       "  <tbody>\n",
       "    <tr>\n",
       "      <th>0</th>\n",
       "      <td>619</td>\n",
       "      <td>42</td>\n",
       "      <td>2</td>\n",
       "      <td>0.00</td>\n",
       "      <td>1</td>\n",
       "      <td>1</td>\n",
       "      <td>1</td>\n",
       "      <td>101348.88</td>\n",
       "      <td>0</td>\n",
       "      <td>0</td>\n",
       "      <td>0</td>\n",
       "    </tr>\n",
       "    <tr>\n",
       "      <th>1</th>\n",
       "      <td>608</td>\n",
       "      <td>41</td>\n",
       "      <td>1</td>\n",
       "      <td>83807.86</td>\n",
       "      <td>1</td>\n",
       "      <td>0</td>\n",
       "      <td>1</td>\n",
       "      <td>112542.58</td>\n",
       "      <td>0</td>\n",
       "      <td>1</td>\n",
       "      <td>0</td>\n",
       "    </tr>\n",
       "    <tr>\n",
       "      <th>2</th>\n",
       "      <td>502</td>\n",
       "      <td>42</td>\n",
       "      <td>8</td>\n",
       "      <td>159660.80</td>\n",
       "      <td>3</td>\n",
       "      <td>1</td>\n",
       "      <td>0</td>\n",
       "      <td>113931.57</td>\n",
       "      <td>0</td>\n",
       "      <td>0</td>\n",
       "      <td>0</td>\n",
       "    </tr>\n",
       "    <tr>\n",
       "      <th>3</th>\n",
       "      <td>699</td>\n",
       "      <td>39</td>\n",
       "      <td>1</td>\n",
       "      <td>0.00</td>\n",
       "      <td>2</td>\n",
       "      <td>0</td>\n",
       "      <td>0</td>\n",
       "      <td>93826.63</td>\n",
       "      <td>0</td>\n",
       "      <td>0</td>\n",
       "      <td>0</td>\n",
       "    </tr>\n",
       "    <tr>\n",
       "      <th>4</th>\n",
       "      <td>850</td>\n",
       "      <td>43</td>\n",
       "      <td>2</td>\n",
       "      <td>125510.82</td>\n",
       "      <td>1</td>\n",
       "      <td>1</td>\n",
       "      <td>1</td>\n",
       "      <td>79084.10</td>\n",
       "      <td>0</td>\n",
       "      <td>1</td>\n",
       "      <td>0</td>\n",
       "    </tr>\n",
       "  </tbody>\n",
       "</table>\n",
       "</div>"
      ],
      "text/plain": [
       "   CreditScore  Age  Tenure    Balance  NumOfProducts  HasCrCard  \\\n",
       "0          619   42       2       0.00              1          1   \n",
       "1          608   41       1   83807.86              1          0   \n",
       "2          502   42       8  159660.80              3          1   \n",
       "3          699   39       1       0.00              2          0   \n",
       "4          850   43       2  125510.82              1          1   \n",
       "\n",
       "   IsActiveMember  EstimatedSalary  Germany  Spain  Male  \n",
       "0               1        101348.88        0      0     0  \n",
       "1               1        112542.58        0      1     0  \n",
       "2               0        113931.57        0      0     0  \n",
       "3               0         93826.63        0      0     0  \n",
       "4               1         79084.10        0      1     0  "
      ]
     },
     "execution_count": 65,
     "metadata": {},
     "output_type": "execute_result"
    }
   ],
   "source": [
    "X.head()"
   ]
  },
  {
   "cell_type": "code",
   "execution_count": 66,
   "metadata": {},
   "outputs": [
    {
     "data": {
      "text/plain": [
       "0    1\n",
       "1    0\n",
       "2    1\n",
       "3    0\n",
       "4    0\n",
       "Name: Exited, dtype: int64"
      ]
     },
     "execution_count": 66,
     "metadata": {},
     "output_type": "execute_result"
    }
   ],
   "source": [
    "y.head()"
   ]
  },
  {
   "cell_type": "markdown",
   "metadata": {},
   "source": [
    "Training the ANN Model"
   ]
  },
  {
   "cell_type": "code",
   "execution_count": 67,
   "metadata": {},
   "outputs": [],
   "source": [
    "# Splitting the dataset into the Training set and Test set\n",
    "X_train, X_test, y_train, y_test = train_test_split(X, y, test_size = 0.2, random_state = 100)"
   ]
  },
  {
   "cell_type": "code",
   "execution_count": 68,
   "metadata": {},
   "outputs": [],
   "source": [
    "# Feature Scaling\n",
    "\n",
    "sc = StandardScaler()\n",
    "X_train = sc.fit_transform(X_train)\n",
    "X_test = sc.transform(X_test)"
   ]
  },
  {
   "cell_type": "code",
   "execution_count": 69,
   "metadata": {},
   "outputs": [
    {
     "name": "stderr",
     "output_type": "stream",
     "text": [
      "Using TensorFlow backend.\n",
      "C:\\Users\\haris\\anaconda3\\lib\\site-packages\\tensorflow\\python\\framework\\dtypes.py:516: FutureWarning: Passing (type, 1) or '1type' as a synonym of type is deprecated; in a future version of numpy, it will be understood as (type, (1,)) / '(1,)type'.\n",
      "  _np_qint8 = np.dtype([(\"qint8\", np.int8, 1)])\n",
      "C:\\Users\\haris\\anaconda3\\lib\\site-packages\\tensorflow\\python\\framework\\dtypes.py:517: FutureWarning: Passing (type, 1) or '1type' as a synonym of type is deprecated; in a future version of numpy, it will be understood as (type, (1,)) / '(1,)type'.\n",
      "  _np_quint8 = np.dtype([(\"quint8\", np.uint8, 1)])\n",
      "C:\\Users\\haris\\anaconda3\\lib\\site-packages\\tensorflow\\python\\framework\\dtypes.py:518: FutureWarning: Passing (type, 1) or '1type' as a synonym of type is deprecated; in a future version of numpy, it will be understood as (type, (1,)) / '(1,)type'.\n",
      "  _np_qint16 = np.dtype([(\"qint16\", np.int16, 1)])\n",
      "C:\\Users\\haris\\anaconda3\\lib\\site-packages\\tensorflow\\python\\framework\\dtypes.py:519: FutureWarning: Passing (type, 1) or '1type' as a synonym of type is deprecated; in a future version of numpy, it will be understood as (type, (1,)) / '(1,)type'.\n",
      "  _np_quint16 = np.dtype([(\"quint16\", np.uint16, 1)])\n",
      "C:\\Users\\haris\\anaconda3\\lib\\site-packages\\tensorflow\\python\\framework\\dtypes.py:520: FutureWarning: Passing (type, 1) or '1type' as a synonym of type is deprecated; in a future version of numpy, it will be understood as (type, (1,)) / '(1,)type'.\n",
      "  _np_qint32 = np.dtype([(\"qint32\", np.int32, 1)])\n",
      "C:\\Users\\haris\\anaconda3\\lib\\site-packages\\tensorflow\\python\\framework\\dtypes.py:525: FutureWarning: Passing (type, 1) or '1type' as a synonym of type is deprecated; in a future version of numpy, it will be understood as (type, (1,)) / '(1,)type'.\n",
      "  np_resource = np.dtype([(\"resource\", np.ubyte, 1)])\n",
      "C:\\Users\\haris\\anaconda3\\lib\\site-packages\\tensorboard\\compat\\tensorflow_stub\\dtypes.py:541: FutureWarning: Passing (type, 1) or '1type' as a synonym of type is deprecated; in a future version of numpy, it will be understood as (type, (1,)) / '(1,)type'.\n",
      "  _np_qint8 = np.dtype([(\"qint8\", np.int8, 1)])\n",
      "C:\\Users\\haris\\anaconda3\\lib\\site-packages\\tensorboard\\compat\\tensorflow_stub\\dtypes.py:542: FutureWarning: Passing (type, 1) or '1type' as a synonym of type is deprecated; in a future version of numpy, it will be understood as (type, (1,)) / '(1,)type'.\n",
      "  _np_quint8 = np.dtype([(\"quint8\", np.uint8, 1)])\n",
      "C:\\Users\\haris\\anaconda3\\lib\\site-packages\\tensorboard\\compat\\tensorflow_stub\\dtypes.py:543: FutureWarning: Passing (type, 1) or '1type' as a synonym of type is deprecated; in a future version of numpy, it will be understood as (type, (1,)) / '(1,)type'.\n",
      "  _np_qint16 = np.dtype([(\"qint16\", np.int16, 1)])\n",
      "C:\\Users\\haris\\anaconda3\\lib\\site-packages\\tensorboard\\compat\\tensorflow_stub\\dtypes.py:544: FutureWarning: Passing (type, 1) or '1type' as a synonym of type is deprecated; in a future version of numpy, it will be understood as (type, (1,)) / '(1,)type'.\n",
      "  _np_quint16 = np.dtype([(\"quint16\", np.uint16, 1)])\n",
      "C:\\Users\\haris\\anaconda3\\lib\\site-packages\\tensorboard\\compat\\tensorflow_stub\\dtypes.py:545: FutureWarning: Passing (type, 1) or '1type' as a synonym of type is deprecated; in a future version of numpy, it will be understood as (type, (1,)) / '(1,)type'.\n",
      "  _np_qint32 = np.dtype([(\"qint32\", np.int32, 1)])\n",
      "C:\\Users\\haris\\anaconda3\\lib\\site-packages\\tensorboard\\compat\\tensorflow_stub\\dtypes.py:550: FutureWarning: Passing (type, 1) or '1type' as a synonym of type is deprecated; in a future version of numpy, it will be understood as (type, (1,)) / '(1,)type'.\n",
      "  np_resource = np.dtype([(\"resource\", np.ubyte, 1)])\n"
     ]
    }
   ],
   "source": [
    "import keras\n"
   ]
  },
  {
   "cell_type": "code",
   "execution_count": 70,
   "metadata": {},
   "outputs": [],
   "source": [
    "from keras.models import Sequential\n",
    "from keras.layers import Dense\n",
    "from keras.layers import LeakyReLU,PReLU,ELU\n",
    "from keras.layers import Dropout"
   ]
  },
  {
   "cell_type": "code",
   "execution_count": 71,
   "metadata": {},
   "outputs": [
    {
     "data": {
      "text/plain": [
       "<keras.engine.sequential.Sequential at 0x1f88edd0fc8>"
      ]
     },
     "execution_count": 71,
     "metadata": {},
     "output_type": "execute_result"
    }
   ],
   "source": [
    "#Initialising the ANN\n",
    "\n",
    "classfier = Sequential()\n",
    "classfier"
   ]
  },
  {
   "cell_type": "code",
   "execution_count": 73,
   "metadata": {},
   "outputs": [],
   "source": [
    "#Adding the input layer and the first hidden layer\n",
    "\n",
    "classfier.add(Dense(units = 6, kernel_initializer = 'he_uniform', activation ='relu', input_dim = 11))"
   ]
  },
  {
   "cell_type": "code",
   "execution_count": 74,
   "metadata": {},
   "outputs": [],
   "source": [
    "#Adding the second hidden layer\n",
    "\n",
    "classfier.add(Dense(activation = \"relu\", units=6, kernel_initializer=\"he_uniform\"))"
   ]
  },
  {
   "cell_type": "code",
   "execution_count": 75,
   "metadata": {},
   "outputs": [],
   "source": [
    "#Adding the output layer\n",
    "\n",
    "classfier.add(Dense(activation=\"sigmoid\", units=1, kernel_initializer=\"glorot_uniform\"))"
   ]
  },
  {
   "cell_type": "code",
   "execution_count": 77,
   "metadata": {},
   "outputs": [
    {
     "name": "stdout",
     "output_type": "stream",
     "text": [
      "WARNING:tensorflow:From C:\\Users\\haris\\anaconda3\\lib\\site-packages\\tensorflow\\python\\ops\\nn_impl.py:180: add_dispatch_support.<locals>.wrapper (from tensorflow.python.ops.array_ops) is deprecated and will be removed in a future version.\n",
      "Instructions for updating:\n",
      "Use tf.where in 2.0, which has the same broadcast rule as np.where\n"
     ]
    }
   ],
   "source": [
    "#Compiling the ANN\n",
    "\n",
    "classfier.compile(optimizer = 'Adam', loss = 'binary_crossentropy', metrics =['accuracy'])"
   ]
  },
  {
   "cell_type": "code",
   "execution_count": 78,
   "metadata": {},
   "outputs": [
    {
     "name": "stderr",
     "output_type": "stream",
     "text": [
      "C:\\Users\\haris\\anaconda3\\lib\\site-packages\\ipykernel_launcher.py:2: UserWarning: The `nb_epoch` argument in `fit` has been renamed `epochs`.\n",
      "  \n"
     ]
    },
    {
     "name": "stdout",
     "output_type": "stream",
     "text": [
      "WARNING:tensorflow:From C:\\Users\\haris\\anaconda3\\lib\\site-packages\\keras\\backend\\tensorflow_backend.py:422: The name tf.global_variables is deprecated. Please use tf.compat.v1.global_variables instead.\n",
      "\n",
      "Train on 5359 samples, validate on 2641 samples\n",
      "Epoch 1/100\n",
      "5359/5359 [==============================] - 3s 527us/step - loss: 0.5282 - accuracy: 0.7888 - val_loss: 0.5057 - val_accuracy: 0.7887\n",
      "Epoch 2/100\n",
      "5359/5359 [==============================] - 1s 244us/step - loss: 0.4583 - accuracy: 0.8009 - val_loss: 0.4743 - val_accuracy: 0.7902\n",
      "Epoch 3/100\n",
      "5359/5359 [==============================] - 1s 237us/step - loss: 0.4333 - accuracy: 0.8059 - val_loss: 0.4590 - val_accuracy: 0.7948\n",
      "Epoch 4/100\n",
      "5359/5359 [==============================] - 1s 237us/step - loss: 0.4216 - accuracy: 0.8123 - val_loss: 0.4523 - val_accuracy: 0.7989\n",
      "Epoch 5/100\n",
      "5359/5359 [==============================] - 2s 347us/step - loss: 0.4134 - accuracy: 0.8169 - val_loss: 0.4460 - val_accuracy: 0.8073\n",
      "Epoch 6/100\n",
      "5359/5359 [==============================] - 1s 238us/step - loss: 0.4086 - accuracy: 0.8214 - val_loss: 0.4457 - val_accuracy: 0.8050\n",
      "Epoch 7/100\n",
      "5359/5359 [==============================] - 1s 225us/step - loss: 0.4045 - accuracy: 0.8253 - val_loss: 0.4406 - val_accuracy: 0.8099\n",
      "Epoch 8/100\n",
      "5359/5359 [==============================] - 1s 237us/step - loss: 0.4015 - accuracy: 0.8261 - val_loss: 0.4373 - val_accuracy: 0.8164\n",
      "Epoch 9/100\n",
      "5359/5359 [==============================] - 1s 261us/step - loss: 0.3989 - accuracy: 0.8293 - val_loss: 0.4365 - val_accuracy: 0.8160\n",
      "Epoch 10/100\n",
      "5359/5359 [==============================] - 2s 312us/step - loss: 0.3970 - accuracy: 0.8304 - val_loss: 0.4322 - val_accuracy: 0.8198\n",
      "Epoch 11/100\n",
      "5359/5359 [==============================] - 1s 222us/step - loss: 0.3947 - accuracy: 0.8306 - val_loss: 0.4314 - val_accuracy: 0.8236\n",
      "Epoch 12/100\n",
      "5359/5359 [==============================] - 1s 257us/step - loss: 0.3931 - accuracy: 0.8322 - val_loss: 0.4284 - val_accuracy: 0.8232\n",
      "Epoch 13/100\n",
      "5359/5359 [==============================] - 1s 267us/step - loss: 0.3907 - accuracy: 0.8337 - val_loss: 0.4296 - val_accuracy: 0.8224\n",
      "Epoch 14/100\n",
      "5359/5359 [==============================] - 2s 396us/step - loss: 0.3896 - accuracy: 0.8328 - val_loss: 0.4264 - val_accuracy: 0.8224\n",
      "Epoch 15/100\n",
      "5359/5359 [==============================] - 2s 424us/step - loss: 0.3879 - accuracy: 0.8362 - val_loss: 0.4237 - val_accuracy: 0.8270\n",
      "Epoch 16/100\n",
      "5359/5359 [==============================] - 2s 351us/step - loss: 0.3860 - accuracy: 0.8354 - val_loss: 0.4198 - val_accuracy: 0.8247\n",
      "Epoch 17/100\n",
      "5359/5359 [==============================] - 2s 432us/step - loss: 0.3847 - accuracy: 0.8371 - val_loss: 0.4193 - val_accuracy: 0.8224\n",
      "Epoch 18/100\n",
      "5359/5359 [==============================] - 2s 329us/step - loss: 0.3837 - accuracy: 0.8375 - val_loss: 0.4181 - val_accuracy: 0.8247\n",
      "Epoch 19/100\n",
      "5359/5359 [==============================] - 2s 295us/step - loss: 0.3817 - accuracy: 0.8384 - val_loss: 0.4197 - val_accuracy: 0.8232\n",
      "Epoch 20/100\n",
      "5359/5359 [==============================] - 1s 257us/step - loss: 0.3811 - accuracy: 0.8358 - val_loss: 0.4142 - val_accuracy: 0.8236\n",
      "Epoch 21/100\n",
      "5359/5359 [==============================] - 2s 365us/step - loss: 0.3794 - accuracy: 0.8373 - val_loss: 0.4116 - val_accuracy: 0.8232\n",
      "Epoch 22/100\n",
      "5359/5359 [==============================] - 2s 283us/step - loss: 0.3776 - accuracy: 0.8386 - val_loss: 0.4100 - val_accuracy: 0.8251\n",
      "Epoch 23/100\n",
      "5359/5359 [==============================] - 1s 218us/step - loss: 0.3760 - accuracy: 0.8403 - val_loss: 0.4105 - val_accuracy: 0.8236\n",
      "Epoch 24/100\n",
      "5359/5359 [==============================] - 1s 229us/step - loss: 0.3744 - accuracy: 0.8391 - val_loss: 0.4063 - val_accuracy: 0.8232\n",
      "Epoch 25/100\n",
      "5359/5359 [==============================] - 1s 260us/step - loss: 0.3719 - accuracy: 0.8393 - val_loss: 0.4048 - val_accuracy: 0.8224\n",
      "Epoch 26/100\n",
      "5359/5359 [==============================] - 1s 275us/step - loss: 0.3698 - accuracy: 0.8406 - val_loss: 0.4015 - val_accuracy: 0.8217\n",
      "Epoch 27/100\n",
      "5359/5359 [==============================] - 1s 221us/step - loss: 0.3670 - accuracy: 0.8403 - val_loss: 0.3974 - val_accuracy: 0.8228\n",
      "Epoch 28/100\n",
      "5359/5359 [==============================] - 1s 223us/step - loss: 0.3643 - accuracy: 0.8395 - val_loss: 0.3931 - val_accuracy: 0.8239\n",
      "Epoch 29/100\n",
      "5359/5359 [==============================] - 1s 233us/step - loss: 0.3614 - accuracy: 0.8384 - val_loss: 0.3906 - val_accuracy: 0.8251\n",
      "Epoch 30/100\n",
      "5359/5359 [==============================] - 2s 306us/step - loss: 0.3595 - accuracy: 0.8380 - val_loss: 0.3863 - val_accuracy: 0.8239\n",
      "Epoch 31/100\n",
      "5359/5359 [==============================] - 1s 254us/step - loss: 0.3575 - accuracy: 0.8416 - val_loss: 0.3834 - val_accuracy: 0.8247\n",
      "Epoch 32/100\n",
      "5359/5359 [==============================] - 1s 227us/step - loss: 0.3559 - accuracy: 0.8421 - val_loss: 0.3795 - val_accuracy: 0.8251\n",
      "Epoch 33/100\n",
      "5359/5359 [==============================] - 1s 218us/step - loss: 0.3535 - accuracy: 0.8399 - val_loss: 0.3798 - val_accuracy: 0.8251\n",
      "Epoch 34/100\n",
      "5359/5359 [==============================] - 1s 216us/step - loss: 0.3523 - accuracy: 0.8393 - val_loss: 0.3765 - val_accuracy: 0.8243\n",
      "Epoch 35/100\n",
      "5359/5359 [==============================] - 2s 290us/step - loss: 0.3490 - accuracy: 0.8433 - val_loss: 0.3773 - val_accuracy: 0.8258\n",
      "Epoch 36/100\n",
      "5359/5359 [==============================] - 1s 226us/step - loss: 0.3481 - accuracy: 0.8535 - val_loss: 0.3718 - val_accuracy: 0.8466\n",
      "Epoch 37/100\n",
      "5359/5359 [==============================] - 1s 227us/step - loss: 0.3463 - accuracy: 0.8597 - val_loss: 0.3695 - val_accuracy: 0.8470\n",
      "Epoch 38/100\n",
      "5359/5359 [==============================] - 1s 225us/step - loss: 0.3450 - accuracy: 0.8589 - val_loss: 0.3696 - val_accuracy: 0.8497\n",
      "Epoch 39/100\n",
      "5359/5359 [==============================] - 1s 249us/step - loss: 0.3437 - accuracy: 0.8604 - val_loss: 0.3662 - val_accuracy: 0.8497\n",
      "Epoch 40/100\n",
      "5359/5359 [==============================] - 2s 288us/step - loss: 0.3423 - accuracy: 0.8602 - val_loss: 0.3648 - val_accuracy: 0.8531\n",
      "Epoch 41/100\n",
      "5359/5359 [==============================] - 1s 224us/step - loss: 0.3416 - accuracy: 0.8593 - val_loss: 0.3638 - val_accuracy: 0.8527\n",
      "Epoch 42/100\n",
      "5359/5359 [==============================] - 1s 224us/step - loss: 0.3399 - accuracy: 0.8623 - val_loss: 0.3632 - val_accuracy: 0.8542\n",
      "Epoch 43/100\n",
      "5359/5359 [==============================] - 1s 212us/step - loss: 0.3396 - accuracy: 0.8628 - val_loss: 0.3613 - val_accuracy: 0.8542\n",
      "Epoch 44/100\n",
      "5359/5359 [==============================] - 1s 266us/step - loss: 0.3379 - accuracy: 0.8634 - val_loss: 0.3634 - val_accuracy: 0.8542\n",
      "Epoch 45/100\n",
      "5359/5359 [==============================] - 1s 269us/step - loss: 0.3370 - accuracy: 0.8625 - val_loss: 0.3584 - val_accuracy: 0.8542\n",
      "Epoch 46/100\n",
      "5359/5359 [==============================] - 1s 232us/step - loss: 0.3366 - accuracy: 0.8630 - val_loss: 0.3577 - val_accuracy: 0.8550\n",
      "Epoch 47/100\n",
      "5359/5359 [==============================] - 1s 240us/step - loss: 0.3356 - accuracy: 0.8655 - val_loss: 0.3579 - val_accuracy: 0.8561\n",
      "Epoch 48/100\n",
      "5359/5359 [==============================] - 1s 205us/step - loss: 0.3354 - accuracy: 0.8615 - val_loss: 0.3606 - val_accuracy: 0.8561\n",
      "Epoch 49/100\n",
      "5359/5359 [==============================] - 2s 287us/step - loss: 0.3350 - accuracy: 0.8647 - val_loss: 0.3585 - val_accuracy: 0.8561\n",
      "Epoch 50/100\n",
      "5359/5359 [==============================] - 1s 227us/step - loss: 0.3345 - accuracy: 0.8632 - val_loss: 0.3587 - val_accuracy: 0.8569\n",
      "Epoch 51/100\n",
      "5359/5359 [==============================] - 1s 214us/step - loss: 0.3346 - accuracy: 0.8649 - val_loss: 0.3578 - val_accuracy: 0.8538\n",
      "Epoch 52/100\n",
      "5359/5359 [==============================] - 1s 207us/step - loss: 0.3338 - accuracy: 0.8653 - val_loss: 0.3581 - val_accuracy: 0.8557\n",
      "Epoch 53/100\n",
      "5359/5359 [==============================] - 1s 213us/step - loss: 0.3335 - accuracy: 0.8681 - val_loss: 0.3546 - val_accuracy: 0.8557\n",
      "Epoch 54/100\n",
      "5359/5359 [==============================] - 2s 292us/step - loss: 0.3335 - accuracy: 0.8668 - val_loss: 0.3547 - val_accuracy: 0.8535\n"
     ]
    },
    {
     "name": "stdout",
     "output_type": "stream",
     "text": [
      "Epoch 55/100\n",
      "5359/5359 [==============================] - 1s 250us/step - loss: 0.3326 - accuracy: 0.8651 - val_loss: 0.3546 - val_accuracy: 0.8557\n",
      "Epoch 56/100\n",
      "5359/5359 [==============================] - 1s 224us/step - loss: 0.3323 - accuracy: 0.8647 - val_loss: 0.3584 - val_accuracy: 0.8584\n",
      "Epoch 57/100\n",
      "5359/5359 [==============================] - 1s 218us/step - loss: 0.3329 - accuracy: 0.8673 - val_loss: 0.3550 - val_accuracy: 0.8569\n",
      "Epoch 58/100\n",
      "5359/5359 [==============================] - 1s 224us/step - loss: 0.3320 - accuracy: 0.8668 - val_loss: 0.3543 - val_accuracy: 0.8573\n",
      "Epoch 59/100\n",
      "5359/5359 [==============================] - 2s 317us/step - loss: 0.3315 - accuracy: 0.8645 - val_loss: 0.3521 - val_accuracy: 0.8557\n",
      "Epoch 60/100\n",
      "5359/5359 [==============================] - 1s 215us/step - loss: 0.3319 - accuracy: 0.8681 - val_loss: 0.3526 - val_accuracy: 0.8599\n",
      "Epoch 61/100\n",
      "5359/5359 [==============================] - 1s 224us/step - loss: 0.3309 - accuracy: 0.8653 - val_loss: 0.3544 - val_accuracy: 0.8588\n",
      "Epoch 62/100\n",
      "5359/5359 [==============================] - 1s 216us/step - loss: 0.3316 - accuracy: 0.8660 - val_loss: 0.3538 - val_accuracy: 0.8584\n",
      "Epoch 63/100\n",
      "5359/5359 [==============================] - 1s 231us/step - loss: 0.3310 - accuracy: 0.8668 - val_loss: 0.3518 - val_accuracy: 0.8569\n",
      "Epoch 64/100\n",
      "5359/5359 [==============================] - 2s 327us/step - loss: 0.3307 - accuracy: 0.8662 - val_loss: 0.3557 - val_accuracy: 0.8573\n",
      "Epoch 65/100\n",
      "5359/5359 [==============================] - 1s 215us/step - loss: 0.3305 - accuracy: 0.8679 - val_loss: 0.3543 - val_accuracy: 0.8588\n",
      "Epoch 66/100\n",
      "5359/5359 [==============================] - 1s 223us/step - loss: 0.3306 - accuracy: 0.8653 - val_loss: 0.3516 - val_accuracy: 0.8588\n",
      "Epoch 67/100\n",
      "5359/5359 [==============================] - 1s 218us/step - loss: 0.3300 - accuracy: 0.8627 - val_loss: 0.3580 - val_accuracy: 0.8591\n",
      "Epoch 68/100\n",
      "5359/5359 [==============================] - 1s 234us/step - loss: 0.3303 - accuracy: 0.8630 - val_loss: 0.3511 - val_accuracy: 0.8576\n",
      "Epoch 69/100\n",
      "5359/5359 [==============================] - 2s 293us/step - loss: 0.3301 - accuracy: 0.8651 - val_loss: 0.3511 - val_accuracy: 0.8588\n",
      "Epoch 70/100\n",
      "5359/5359 [==============================] - 1s 218us/step - loss: 0.3299 - accuracy: 0.8670 - val_loss: 0.3514 - val_accuracy: 0.8614\n",
      "Epoch 71/100\n",
      "5359/5359 [==============================] - 1s 228us/step - loss: 0.3294 - accuracy: 0.8660 - val_loss: 0.3507 - val_accuracy: 0.8573\n",
      "Epoch 72/100\n",
      "5359/5359 [==============================] - 1s 220us/step - loss: 0.3285 - accuracy: 0.8681 - val_loss: 0.3561 - val_accuracy: 0.8588\n",
      "Epoch 73/100\n",
      "5359/5359 [==============================] - 1s 261us/step - loss: 0.3286 - accuracy: 0.8677 - val_loss: 0.3509 - val_accuracy: 0.8614\n",
      "Epoch 74/100\n",
      "5359/5359 [==============================] - 1s 264us/step - loss: 0.3287 - accuracy: 0.8666 - val_loss: 0.3495 - val_accuracy: 0.8614\n",
      "Epoch 75/100\n",
      "5359/5359 [==============================] - 1s 221us/step - loss: 0.3291 - accuracy: 0.8649 - val_loss: 0.3499 - val_accuracy: 0.8595\n",
      "Epoch 76/100\n",
      "5359/5359 [==============================] - 1s 223us/step - loss: 0.3283 - accuracy: 0.8683 - val_loss: 0.3543 - val_accuracy: 0.8633\n",
      "Epoch 77/100\n",
      "5359/5359 [==============================] - 1s 215us/step - loss: 0.3286 - accuracy: 0.8656 - val_loss: 0.3496 - val_accuracy: 0.8607\n",
      "Epoch 78/100\n",
      "5359/5359 [==============================] - 2s 282us/step - loss: 0.3286 - accuracy: 0.8666 - val_loss: 0.3494 - val_accuracy: 0.8599\n",
      "Epoch 79/100\n",
      "5359/5359 [==============================] - 1s 252us/step - loss: 0.3281 - accuracy: 0.8660 - val_loss: 0.3513 - val_accuracy: 0.8626\n",
      "Epoch 80/100\n",
      "5359/5359 [==============================] - 1s 221us/step - loss: 0.3278 - accuracy: 0.8671 - val_loss: 0.3501 - val_accuracy: 0.8595\n",
      "Epoch 81/100\n",
      "5359/5359 [==============================] - 1s 213us/step - loss: 0.3282 - accuracy: 0.8686 - val_loss: 0.3487 - val_accuracy: 0.8614\n",
      "Epoch 82/100\n",
      "5359/5359 [==============================] - 1s 220us/step - loss: 0.3280 - accuracy: 0.8673 - val_loss: 0.3488 - val_accuracy: 0.8618\n",
      "Epoch 83/100\n",
      "5359/5359 [==============================] - 2s 309us/step - loss: 0.3277 - accuracy: 0.8655 - val_loss: 0.3503 - val_accuracy: 0.8595\n",
      "Epoch 84/100\n",
      "5359/5359 [==============================] - 1s 225us/step - loss: 0.3275 - accuracy: 0.8673 - val_loss: 0.3493 - val_accuracy: 0.8610\n",
      "Epoch 85/100\n",
      "5359/5359 [==============================] - 1s 228us/step - loss: 0.3269 - accuracy: 0.8668 - val_loss: 0.3506 - val_accuracy: 0.8588\n",
      "Epoch 86/100\n",
      "5359/5359 [==============================] - 1s 216us/step - loss: 0.3268 - accuracy: 0.8664 - val_loss: 0.3540 - val_accuracy: 0.8576\n",
      "Epoch 87/100\n",
      "5359/5359 [==============================] - 1s 222us/step - loss: 0.3267 - accuracy: 0.8677 - val_loss: 0.3505 - val_accuracy: 0.8607\n",
      "Epoch 88/100\n",
      "5359/5359 [==============================] - 2s 315us/step - loss: 0.3271 - accuracy: 0.8662 - val_loss: 0.3536 - val_accuracy: 0.8554\n",
      "Epoch 89/100\n",
      "5359/5359 [==============================] - 1s 218us/step - loss: 0.3269 - accuracy: 0.8692 - val_loss: 0.3495 - val_accuracy: 0.8614\n",
      "Epoch 90/100\n",
      "5359/5359 [==============================] - 1s 217us/step - loss: 0.3268 - accuracy: 0.8651 - val_loss: 0.3492 - val_accuracy: 0.8603\n",
      "Epoch 91/100\n",
      "5359/5359 [==============================] - 1s 210us/step - loss: 0.3267 - accuracy: 0.8670 - val_loss: 0.3476 - val_accuracy: 0.8595\n",
      "Epoch 92/100\n",
      "5359/5359 [==============================] - 1s 217us/step - loss: 0.3265 - accuracy: 0.8666 - val_loss: 0.3498 - val_accuracy: 0.8603\n",
      "Epoch 93/100\n",
      "5359/5359 [==============================] - 2s 305us/step - loss: 0.3253 - accuracy: 0.8683 - val_loss: 0.3566 - val_accuracy: 0.8591\n",
      "Epoch 94/100\n",
      "5359/5359 [==============================] - 1s 210us/step - loss: 0.3262 - accuracy: 0.8694 - val_loss: 0.3524 - val_accuracy: 0.8573\n",
      "Epoch 95/100\n",
      "5359/5359 [==============================] - 1s 227us/step - loss: 0.3259 - accuracy: 0.8684 - val_loss: 0.3498 - val_accuracy: 0.8580\n",
      "Epoch 96/100\n",
      "5359/5359 [==============================] - 1s 211us/step - loss: 0.3256 - accuracy: 0.8673 - val_loss: 0.3482 - val_accuracy: 0.8576\n",
      "Epoch 97/100\n",
      "5359/5359 [==============================] - 1s 218us/step - loss: 0.3264 - accuracy: 0.8668 - val_loss: 0.3534 - val_accuracy: 0.8576\n",
      "Epoch 98/100\n",
      "5359/5359 [==============================] - 2s 291us/step - loss: 0.3258 - accuracy: 0.8666 - val_loss: 0.3494 - val_accuracy: 0.8603\n",
      "Epoch 99/100\n",
      "5359/5359 [==============================] - 1s 214us/step - loss: 0.3258 - accuracy: 0.8675 - val_loss: 0.3485 - val_accuracy: 0.8607\n",
      "Epoch 100/100\n",
      "5359/5359 [==============================] - 1s 216us/step - loss: 0.3261 - accuracy: 0.8671 - val_loss: 0.3512 - val_accuracy: 0.8591\n"
     ]
    }
   ],
   "source": [
    "#Fitting the ANN to the Training set\n",
    "model_history=classfier.fit(X_train, y_train, validation_split=0.33, batch_size = 10, nb_epoch = 100)"
   ]
  },
  {
   "cell_type": "code",
   "execution_count": 79,
   "metadata": {},
   "outputs": [],
   "source": [
    "# Predicting the Test set results\n",
    "y_pred = classfier.predict(X_test)\n",
    "y_pred = (y_pred > 0.5)"
   ]
  },
  {
   "cell_type": "code",
   "execution_count": 80,
   "metadata": {},
   "outputs": [
    {
     "data": {
      "text/plain": [
       "array([[False],\n",
       "       [False],\n",
       "       [False],\n",
       "       ...,\n",
       "       [False],\n",
       "       [False],\n",
       "       [False]])"
      ]
     },
     "execution_count": 80,
     "metadata": {},
     "output_type": "execute_result"
    }
   ],
   "source": [
    "y_pred"
   ]
  },
  {
   "cell_type": "code",
   "execution_count": 81,
   "metadata": {},
   "outputs": [
    {
     "data": {
      "text/plain": [
       "{False: 1764, True: 236}"
      ]
     },
     "execution_count": 81,
     "metadata": {},
     "output_type": "execute_result"
    }
   ],
   "source": [
    "unique, counts = np.unique(y_pred, return_counts = True)\n",
    "dict(zip(unique, counts))"
   ]
  },
  {
   "cell_type": "code",
   "execution_count": 82,
   "metadata": {},
   "outputs": [
    {
     "data": {
      "text/plain": [
       "{0: 1588, 1: 412}"
      ]
     },
     "execution_count": 82,
     "metadata": {},
     "output_type": "execute_result"
    }
   ],
   "source": [
    "unique, counts = np.unique(y_test, return_counts=True)\n",
    "\n",
    "dict(zip(unique, counts))"
   ]
  },
  {
   "cell_type": "code",
   "execution_count": 83,
   "metadata": {},
   "outputs": [],
   "source": [
    "# Making the Confusion Matrix\n",
    "from sklearn.metrics import confusion_matrix\n",
    "cm = confusion_matrix(y_test, y_pred)"
   ]
  },
  {
   "cell_type": "code",
   "execution_count": 84,
   "metadata": {},
   "outputs": [
    {
     "data": {
      "text/plain": [
       "array([[1528,   60],\n",
       "       [ 236,  176]], dtype=int64)"
      ]
     },
     "execution_count": 84,
     "metadata": {},
     "output_type": "execute_result"
    }
   ],
   "source": [
    "cm"
   ]
  },
  {
   "cell_type": "code",
   "execution_count": 86,
   "metadata": {},
   "outputs": [
    {
     "data": {
      "text/plain": [
       "0.852"
      ]
     },
     "execution_count": 86,
     "metadata": {},
     "output_type": "execute_result"
    }
   ],
   "source": [
    "# Calculate the Accuracy\n",
    "from sklearn.metrics import accuracy_score\n",
    "\n",
    "score=accuracy_score(y_pred,y_test)\n",
    "score"
   ]
  },
  {
   "cell_type": "code",
   "execution_count": 87,
   "metadata": {},
   "outputs": [
    {
     "data": {
      "text/plain": [
       "array([[False],\n",
       "       [False],\n",
       "       [False],\n",
       "       ...,\n",
       "       [False],\n",
       "       [False],\n",
       "       [False]])"
      ]
     },
     "execution_count": 87,
     "metadata": {},
     "output_type": "execute_result"
    }
   ],
   "source": [
    "y_pred"
   ]
  },
  {
   "cell_type": "code",
   "execution_count": 89,
   "metadata": {},
   "outputs": [],
   "source": [
    "from keras.layers import Activation, Embedding, Flatten, LeakyReLU, BatchNormalization, Dropout\n",
    "from keras.activations import relu, sigmoid\n",
    "from keras.layers import LeakyReLU\n",
    "from keras.wrappers.scikit_learn import KerasClassifier\n",
    "from sklearn.model_selection import GridSearchCV"
   ]
  },
  {
   "cell_type": "code",
   "execution_count": 90,
   "metadata": {},
   "outputs": [],
   "source": [
    "def create_model(layers, activation):\n",
    "    model = Sequential()\n",
    "    for i, nodes in enumerate(layers):\n",
    "        if i==0:\n",
    "            model.add(Dense(nodes,input_dim=X_train.shape[1]))\n",
    "            model.add(Activation(activation))\n",
    "        else:\n",
    "            model.add(Dense(nodes))\n",
    "            model.add(Activation(activation))\n",
    "    model.add(Dense(1)) # Note: no activation beyond this point\n",
    "    \n",
    "    model.compile(optimizer='adam', loss='binary_crossentropy',metrics=['accuracy'])\n",
    "    return model\n",
    "    \n",
    "model = KerasClassifier(build_fn=create_model, verbose=0)"
   ]
  },
  {
   "cell_type": "code",
   "execution_count": 91,
   "metadata": {},
   "outputs": [
    {
     "data": {
      "text/plain": [
       "<keras.wrappers.scikit_learn.KerasClassifier at 0x1f890320208>"
      ]
     },
     "execution_count": 91,
     "metadata": {},
     "output_type": "execute_result"
    }
   ],
   "source": [
    "model"
   ]
  },
  {
   "cell_type": "code",
   "execution_count": 92,
   "metadata": {},
   "outputs": [],
   "source": [
    "layers=[(150,), (160,100), (140,100,500)]\n",
    "activations = ['sigmoid', 'relu']\n",
    "param_grid = dict(layers=layers, activation=activations, batch_size = [128, 256], epochs=[30])\n",
    "grid = GridSearchCV(estimator=model, param_grid=param_grid,cv=5)"
   ]
  },
  {
   "cell_type": "code",
   "execution_count": 93,
   "metadata": {},
   "outputs": [],
   "source": [
    "grid_result = grid.fit(X_train, y_train)"
   ]
  },
  {
   "cell_type": "code",
   "execution_count": 94,
   "metadata": {},
   "outputs": [
    {
     "data": {
      "text/plain": [
       "[0.8477499961853028,\n",
       " {'activation': 'relu', 'batch_size': 256, 'epochs': 30, 'layers': (160, 100)}]"
      ]
     },
     "execution_count": 94,
     "metadata": {},
     "output_type": "execute_result"
    }
   ],
   "source": [
    "[grid_result.best_score_,grid_result.best_params_]\n"
   ]
  },
  {
   "cell_type": "code",
   "execution_count": 95,
   "metadata": {},
   "outputs": [],
   "source": [
    "pred_y = grid.predict(X_test)\n"
   ]
  },
  {
   "cell_type": "code",
   "execution_count": 96,
   "metadata": {},
   "outputs": [
    {
     "data": {
      "text/plain": [
       "array([[0],\n",
       "       [0],\n",
       "       [0],\n",
       "       ...,\n",
       "       [0],\n",
       "       [0],\n",
       "       [0]], dtype=int64)"
      ]
     },
     "execution_count": 96,
     "metadata": {},
     "output_type": "execute_result"
    }
   ],
   "source": [
    "pred_y"
   ]
  },
  {
   "cell_type": "code",
   "execution_count": 97,
   "metadata": {},
   "outputs": [
    {
     "name": "stdout",
     "output_type": "stream",
     "text": [
      "              precision    recall  f1-score   support\n",
      "\n",
      "           0       0.85      0.97      0.91      1588\n",
      "           1       0.77      0.35      0.48       412\n",
      "\n",
      "    accuracy                           0.84      2000\n",
      "   macro avg       0.81      0.66      0.69      2000\n",
      "weighted avg       0.83      0.84      0.82      2000\n",
      "\n"
     ]
    }
   ],
   "source": [
    "print(classification_report(y_test, pred_y))"
   ]
  },
  {
   "cell_type": "markdown",
   "metadata": {},
   "source": [
    "The Ann performed better than simple logistic regression model"
   ]
  },
  {
   "cell_type": "code",
   "execution_count": null,
   "metadata": {},
   "outputs": [],
   "source": []
  },
  {
   "cell_type": "code",
   "execution_count": null,
   "metadata": {},
   "outputs": [],
   "source": []
  },
  {
   "cell_type": "code",
   "execution_count": null,
   "metadata": {},
   "outputs": [],
   "source": []
  }
 ],
 "metadata": {
  "kernelspec": {
   "display_name": "Python 3",
   "language": "python",
   "name": "python3"
  },
  "language_info": {
   "codemirror_mode": {
    "name": "ipython",
    "version": 3
   },
   "file_extension": ".py",
   "mimetype": "text/x-python",
   "name": "python",
   "nbconvert_exporter": "python",
   "pygments_lexer": "ipython3",
   "version": "3.7.6"
  }
 },
 "nbformat": 4,
 "nbformat_minor": 4
}
